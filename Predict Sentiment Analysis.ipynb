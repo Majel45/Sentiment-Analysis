{
 "cells": [
  {
   "cell_type": "markdown",
   "metadata": {},
   "source": [
    "## Loading Libraries"
   ]
  },
  {
   "cell_type": "code",
   "execution_count": 1,
   "metadata": {},
   "outputs": [],
   "source": [
    "import pandas as pd\n",
    "import numpy as np\n",
    "import numpy as np; np.random.seed(0)\n",
    "import seaborn as sns; sns.set()\n",
    "import seaborn as sns\n",
    "from scipy import stats\n",
    "import matplotlib.pyplot as plt\n",
    "from sklearn.ensemble import RandomForestClassifier\n",
    "from sklearn.feature_selection import SelectFromModel\n",
    "from sklearn.metrics import accuracy_score"
   ]
  },
  {
   "cell_type": "markdown",
   "metadata": {},
   "source": [
    "## Learning Resources"
   ]
  },
  {
   "cell_type": "code",
   "execution_count": 2,
   "metadata": {},
   "outputs": [],
   "source": [
    "# https://chrisalbon.com/machine_learning/trees_and_forests/feature_selection_using_random_forest/"
   ]
  },
  {
   "cell_type": "markdown",
   "metadata": {},
   "source": [
    "## Importing Data"
   ]
  },
  {
   "cell_type": "code",
   "execution_count": 3,
   "metadata": {},
   "outputs": [],
   "source": [
    "iPhone_df = pd.read_csv(\"iphone_smallmatrix_labeled_8d.csv\")\n",
    "\n",
    "Galaxy_df = pd.read_csv('galaxy_smallmatrix_labeled_9d.csv')"
   ]
  },
  {
   "cell_type": "code",
   "execution_count": 4,
   "metadata": {},
   "outputs": [
    {
     "name": "stdout",
     "output_type": "stream",
     "text": [
      "(12973, 59)\n",
      "(12911, 59)\n"
     ]
    }
   ],
   "source": [
    "print(iPhone_df.shape)\n",
    "\n",
    "print(Galaxy_df.shape)"
   ]
  },
  {
   "cell_type": "code",
   "execution_count": 5,
   "metadata": {},
   "outputs": [
    {
     "data": {
      "text/html": [
       "<div>\n",
       "<style scoped>\n",
       "    .dataframe tbody tr th:only-of-type {\n",
       "        vertical-align: middle;\n",
       "    }\n",
       "\n",
       "    .dataframe tbody tr th {\n",
       "        vertical-align: top;\n",
       "    }\n",
       "\n",
       "    .dataframe thead th {\n",
       "        text-align: right;\n",
       "    }\n",
       "</style>\n",
       "<table border=\"1\" class=\"dataframe\">\n",
       "  <thead>\n",
       "    <tr style=\"text-align: right;\">\n",
       "      <th></th>\n",
       "      <th>iphone</th>\n",
       "      <th>samsunggalaxy</th>\n",
       "      <th>sonyxperia</th>\n",
       "      <th>nokialumina</th>\n",
       "      <th>htcphone</th>\n",
       "      <th>ios</th>\n",
       "      <th>googleandroid</th>\n",
       "      <th>iphonecampos</th>\n",
       "      <th>samsungcampos</th>\n",
       "      <th>sonycampos</th>\n",
       "      <th>...</th>\n",
       "      <th>sonyperunc</th>\n",
       "      <th>nokiaperunc</th>\n",
       "      <th>htcperunc</th>\n",
       "      <th>iosperpos</th>\n",
       "      <th>googleperpos</th>\n",
       "      <th>iosperneg</th>\n",
       "      <th>googleperneg</th>\n",
       "      <th>iosperunc</th>\n",
       "      <th>googleperunc</th>\n",
       "      <th>iphonesentiment</th>\n",
       "    </tr>\n",
       "  </thead>\n",
       "  <tbody>\n",
       "    <tr>\n",
       "      <th>count</th>\n",
       "      <td>12973.000000</td>\n",
       "      <td>12973.000000</td>\n",
       "      <td>12973.000000</td>\n",
       "      <td>12973.000000</td>\n",
       "      <td>12973.000000</td>\n",
       "      <td>12973.000000</td>\n",
       "      <td>12973.000000</td>\n",
       "      <td>12973.000000</td>\n",
       "      <td>12973.000000</td>\n",
       "      <td>12973.000000</td>\n",
       "      <td>...</td>\n",
       "      <td>12973.000000</td>\n",
       "      <td>12973.000000</td>\n",
       "      <td>12973.000000</td>\n",
       "      <td>12973.000000</td>\n",
       "      <td>12973.000000</td>\n",
       "      <td>12973.000000</td>\n",
       "      <td>12973.000000</td>\n",
       "      <td>12973.000000</td>\n",
       "      <td>12973.000000</td>\n",
       "      <td>12973.000000</td>\n",
       "    </tr>\n",
       "    <tr>\n",
       "      <th>mean</th>\n",
       "      <td>2.148077</td>\n",
       "      <td>0.071148</td>\n",
       "      <td>0.024050</td>\n",
       "      <td>0.002312</td>\n",
       "      <td>0.137131</td>\n",
       "      <td>0.152316</td>\n",
       "      <td>0.039621</td>\n",
       "      <td>0.289601</td>\n",
       "      <td>0.053727</td>\n",
       "      <td>0.009944</td>\n",
       "      <td>...</td>\n",
       "      <td>0.002312</td>\n",
       "      <td>0.005550</td>\n",
       "      <td>0.064133</td>\n",
       "      <td>0.059200</td>\n",
       "      <td>0.038542</td>\n",
       "      <td>0.057581</td>\n",
       "      <td>0.058198</td>\n",
       "      <td>0.033069</td>\n",
       "      <td>0.016110</td>\n",
       "      <td>3.724505</td>\n",
       "    </tr>\n",
       "    <tr>\n",
       "      <th>std</th>\n",
       "      <td>5.664226</td>\n",
       "      <td>0.280869</td>\n",
       "      <td>0.171266</td>\n",
       "      <td>0.051144</td>\n",
       "      <td>4.223547</td>\n",
       "      <td>0.839081</td>\n",
       "      <td>0.255020</td>\n",
       "      <td>2.188978</td>\n",
       "      <td>0.711322</td>\n",
       "      <td>0.163251</td>\n",
       "      <td>...</td>\n",
       "      <td>0.086887</td>\n",
       "      <td>0.183249</td>\n",
       "      <td>0.829639</td>\n",
       "      <td>0.550736</td>\n",
       "      <td>0.426599</td>\n",
       "      <td>0.565341</td>\n",
       "      <td>0.586035</td>\n",
       "      <td>0.313733</td>\n",
       "      <td>0.285808</td>\n",
       "      <td>1.851348</td>\n",
       "    </tr>\n",
       "    <tr>\n",
       "      <th>min</th>\n",
       "      <td>0.000000</td>\n",
       "      <td>0.000000</td>\n",
       "      <td>0.000000</td>\n",
       "      <td>0.000000</td>\n",
       "      <td>0.000000</td>\n",
       "      <td>0.000000</td>\n",
       "      <td>0.000000</td>\n",
       "      <td>0.000000</td>\n",
       "      <td>0.000000</td>\n",
       "      <td>0.000000</td>\n",
       "      <td>...</td>\n",
       "      <td>0.000000</td>\n",
       "      <td>0.000000</td>\n",
       "      <td>0.000000</td>\n",
       "      <td>0.000000</td>\n",
       "      <td>0.000000</td>\n",
       "      <td>0.000000</td>\n",
       "      <td>0.000000</td>\n",
       "      <td>0.000000</td>\n",
       "      <td>0.000000</td>\n",
       "      <td>0.000000</td>\n",
       "    </tr>\n",
       "    <tr>\n",
       "      <th>25%</th>\n",
       "      <td>1.000000</td>\n",
       "      <td>0.000000</td>\n",
       "      <td>0.000000</td>\n",
       "      <td>0.000000</td>\n",
       "      <td>0.000000</td>\n",
       "      <td>0.000000</td>\n",
       "      <td>0.000000</td>\n",
       "      <td>0.000000</td>\n",
       "      <td>0.000000</td>\n",
       "      <td>0.000000</td>\n",
       "      <td>...</td>\n",
       "      <td>0.000000</td>\n",
       "      <td>0.000000</td>\n",
       "      <td>0.000000</td>\n",
       "      <td>0.000000</td>\n",
       "      <td>0.000000</td>\n",
       "      <td>0.000000</td>\n",
       "      <td>0.000000</td>\n",
       "      <td>0.000000</td>\n",
       "      <td>0.000000</td>\n",
       "      <td>3.000000</td>\n",
       "    </tr>\n",
       "    <tr>\n",
       "      <th>50%</th>\n",
       "      <td>1.000000</td>\n",
       "      <td>0.000000</td>\n",
       "      <td>0.000000</td>\n",
       "      <td>0.000000</td>\n",
       "      <td>0.000000</td>\n",
       "      <td>0.000000</td>\n",
       "      <td>0.000000</td>\n",
       "      <td>0.000000</td>\n",
       "      <td>0.000000</td>\n",
       "      <td>0.000000</td>\n",
       "      <td>...</td>\n",
       "      <td>0.000000</td>\n",
       "      <td>0.000000</td>\n",
       "      <td>0.000000</td>\n",
       "      <td>0.000000</td>\n",
       "      <td>0.000000</td>\n",
       "      <td>0.000000</td>\n",
       "      <td>0.000000</td>\n",
       "      <td>0.000000</td>\n",
       "      <td>0.000000</td>\n",
       "      <td>5.000000</td>\n",
       "    </tr>\n",
       "    <tr>\n",
       "      <th>75%</th>\n",
       "      <td>1.000000</td>\n",
       "      <td>0.000000</td>\n",
       "      <td>0.000000</td>\n",
       "      <td>0.000000</td>\n",
       "      <td>0.000000</td>\n",
       "      <td>0.000000</td>\n",
       "      <td>0.000000</td>\n",
       "      <td>0.000000</td>\n",
       "      <td>0.000000</td>\n",
       "      <td>0.000000</td>\n",
       "      <td>...</td>\n",
       "      <td>0.000000</td>\n",
       "      <td>0.000000</td>\n",
       "      <td>0.000000</td>\n",
       "      <td>0.000000</td>\n",
       "      <td>0.000000</td>\n",
       "      <td>0.000000</td>\n",
       "      <td>0.000000</td>\n",
       "      <td>0.000000</td>\n",
       "      <td>0.000000</td>\n",
       "      <td>5.000000</td>\n",
       "    </tr>\n",
       "    <tr>\n",
       "      <th>max</th>\n",
       "      <td>46.000000</td>\n",
       "      <td>8.000000</td>\n",
       "      <td>8.000000</td>\n",
       "      <td>2.000000</td>\n",
       "      <td>479.000000</td>\n",
       "      <td>6.000000</td>\n",
       "      <td>6.000000</td>\n",
       "      <td>156.000000</td>\n",
       "      <td>65.000000</td>\n",
       "      <td>8.000000</td>\n",
       "      <td>...</td>\n",
       "      <td>5.000000</td>\n",
       "      <td>13.000000</td>\n",
       "      <td>59.000000</td>\n",
       "      <td>26.000000</td>\n",
       "      <td>24.000000</td>\n",
       "      <td>20.000000</td>\n",
       "      <td>25.000000</td>\n",
       "      <td>10.000000</td>\n",
       "      <td>24.000000</td>\n",
       "      <td>5.000000</td>\n",
       "    </tr>\n",
       "  </tbody>\n",
       "</table>\n",
       "<p>8 rows × 59 columns</p>\n",
       "</div>"
      ],
      "text/plain": [
       "             iphone  samsunggalaxy    sonyxperia   nokialumina      htcphone  \\\n",
       "count  12973.000000   12973.000000  12973.000000  12973.000000  12973.000000   \n",
       "mean       2.148077       0.071148      0.024050      0.002312      0.137131   \n",
       "std        5.664226       0.280869      0.171266      0.051144      4.223547   \n",
       "min        0.000000       0.000000      0.000000      0.000000      0.000000   \n",
       "25%        1.000000       0.000000      0.000000      0.000000      0.000000   \n",
       "50%        1.000000       0.000000      0.000000      0.000000      0.000000   \n",
       "75%        1.000000       0.000000      0.000000      0.000000      0.000000   \n",
       "max       46.000000       8.000000      8.000000      2.000000    479.000000   \n",
       "\n",
       "                ios  googleandroid  iphonecampos  samsungcampos    sonycampos  \\\n",
       "count  12973.000000   12973.000000  12973.000000   12973.000000  12973.000000   \n",
       "mean       0.152316       0.039621      0.289601       0.053727      0.009944   \n",
       "std        0.839081       0.255020      2.188978       0.711322      0.163251   \n",
       "min        0.000000       0.000000      0.000000       0.000000      0.000000   \n",
       "25%        0.000000       0.000000      0.000000       0.000000      0.000000   \n",
       "50%        0.000000       0.000000      0.000000       0.000000      0.000000   \n",
       "75%        0.000000       0.000000      0.000000       0.000000      0.000000   \n",
       "max        6.000000       6.000000    156.000000      65.000000      8.000000   \n",
       "\n",
       "            ...           sonyperunc   nokiaperunc     htcperunc  \\\n",
       "count       ...         12973.000000  12973.000000  12973.000000   \n",
       "mean        ...             0.002312      0.005550      0.064133   \n",
       "std         ...             0.086887      0.183249      0.829639   \n",
       "min         ...             0.000000      0.000000      0.000000   \n",
       "25%         ...             0.000000      0.000000      0.000000   \n",
       "50%         ...             0.000000      0.000000      0.000000   \n",
       "75%         ...             0.000000      0.000000      0.000000   \n",
       "max         ...             5.000000     13.000000     59.000000   \n",
       "\n",
       "          iosperpos  googleperpos     iosperneg  googleperneg     iosperunc  \\\n",
       "count  12973.000000  12973.000000  12973.000000  12973.000000  12973.000000   \n",
       "mean       0.059200      0.038542      0.057581      0.058198      0.033069   \n",
       "std        0.550736      0.426599      0.565341      0.586035      0.313733   \n",
       "min        0.000000      0.000000      0.000000      0.000000      0.000000   \n",
       "25%        0.000000      0.000000      0.000000      0.000000      0.000000   \n",
       "50%        0.000000      0.000000      0.000000      0.000000      0.000000   \n",
       "75%        0.000000      0.000000      0.000000      0.000000      0.000000   \n",
       "max       26.000000     24.000000     20.000000     25.000000     10.000000   \n",
       "\n",
       "       googleperunc  iphonesentiment  \n",
       "count  12973.000000     12973.000000  \n",
       "mean       0.016110         3.724505  \n",
       "std        0.285808         1.851348  \n",
       "min        0.000000         0.000000  \n",
       "25%        0.000000         3.000000  \n",
       "50%        0.000000         5.000000  \n",
       "75%        0.000000         5.000000  \n",
       "max       24.000000         5.000000  \n",
       "\n",
       "[8 rows x 59 columns]"
      ]
     },
     "execution_count": 5,
     "metadata": {},
     "output_type": "execute_result"
    }
   ],
   "source": [
    "iPhone_df.describe()"
   ]
  },
  {
   "cell_type": "code",
   "execution_count": 6,
   "metadata": {},
   "outputs": [
    {
     "data": {
      "text/html": [
       "<div>\n",
       "<style scoped>\n",
       "    .dataframe tbody tr th:only-of-type {\n",
       "        vertical-align: middle;\n",
       "    }\n",
       "\n",
       "    .dataframe tbody tr th {\n",
       "        vertical-align: top;\n",
       "    }\n",
       "\n",
       "    .dataframe thead th {\n",
       "        text-align: right;\n",
       "    }\n",
       "</style>\n",
       "<table border=\"1\" class=\"dataframe\">\n",
       "  <thead>\n",
       "    <tr style=\"text-align: right;\">\n",
       "      <th></th>\n",
       "      <th>iphone</th>\n",
       "      <th>samsunggalaxy</th>\n",
       "      <th>sonyxperia</th>\n",
       "      <th>nokialumina</th>\n",
       "      <th>htcphone</th>\n",
       "      <th>ios</th>\n",
       "      <th>googleandroid</th>\n",
       "      <th>iphonecampos</th>\n",
       "      <th>samsungcampos</th>\n",
       "      <th>sonycampos</th>\n",
       "      <th>...</th>\n",
       "      <th>sonyperunc</th>\n",
       "      <th>nokiaperunc</th>\n",
       "      <th>htcperunc</th>\n",
       "      <th>iosperpos</th>\n",
       "      <th>googleperpos</th>\n",
       "      <th>iosperneg</th>\n",
       "      <th>googleperneg</th>\n",
       "      <th>iosperunc</th>\n",
       "      <th>googleperunc</th>\n",
       "      <th>galaxysentiment</th>\n",
       "    </tr>\n",
       "  </thead>\n",
       "  <tbody>\n",
       "    <tr>\n",
       "      <th>count</th>\n",
       "      <td>12911.000000</td>\n",
       "      <td>12911.000000</td>\n",
       "      <td>12911.000000</td>\n",
       "      <td>12911.000000</td>\n",
       "      <td>12911.000000</td>\n",
       "      <td>12911.000000</td>\n",
       "      <td>12911.000000</td>\n",
       "      <td>12911.000000</td>\n",
       "      <td>12911.000000</td>\n",
       "      <td>12911.000000</td>\n",
       "      <td>...</td>\n",
       "      <td>12911.000000</td>\n",
       "      <td>12911.000000</td>\n",
       "      <td>12911.000000</td>\n",
       "      <td>12911.000000</td>\n",
       "      <td>12911.000000</td>\n",
       "      <td>12911.000000</td>\n",
       "      <td>12911.000000</td>\n",
       "      <td>12911.000000</td>\n",
       "      <td>12911.000000</td>\n",
       "      <td>12911.000000</td>\n",
       "    </tr>\n",
       "    <tr>\n",
       "      <th>mean</th>\n",
       "      <td>2.209356</td>\n",
       "      <td>0.071335</td>\n",
       "      <td>0.024088</td>\n",
       "      <td>0.002324</td>\n",
       "      <td>0.137480</td>\n",
       "      <td>0.152738</td>\n",
       "      <td>0.039734</td>\n",
       "      <td>0.289133</td>\n",
       "      <td>0.053675</td>\n",
       "      <td>0.009682</td>\n",
       "      <td>...</td>\n",
       "      <td>0.002169</td>\n",
       "      <td>0.005577</td>\n",
       "      <td>0.064209</td>\n",
       "      <td>0.059484</td>\n",
       "      <td>0.038727</td>\n",
       "      <td>0.057858</td>\n",
       "      <td>0.058477</td>\n",
       "      <td>0.033227</td>\n",
       "      <td>0.016188</td>\n",
       "      <td>3.828518</td>\n",
       "    </tr>\n",
       "    <tr>\n",
       "      <th>std</th>\n",
       "      <td>6.071043</td>\n",
       "      <td>0.281264</td>\n",
       "      <td>0.171454</td>\n",
       "      <td>0.051266</td>\n",
       "      <td>4.233639</td>\n",
       "      <td>0.840622</td>\n",
       "      <td>0.255477</td>\n",
       "      <td>2.193111</td>\n",
       "      <td>0.712172</td>\n",
       "      <td>0.159829</td>\n",
       "      <td>...</td>\n",
       "      <td>0.085302</td>\n",
       "      <td>0.183688</td>\n",
       "      <td>0.831402</td>\n",
       "      <td>0.552041</td>\n",
       "      <td>0.427614</td>\n",
       "      <td>0.566683</td>\n",
       "      <td>0.587426</td>\n",
       "      <td>0.314477</td>\n",
       "      <td>0.286491</td>\n",
       "      <td>1.781224</td>\n",
       "    </tr>\n",
       "    <tr>\n",
       "      <th>min</th>\n",
       "      <td>0.000000</td>\n",
       "      <td>0.000000</td>\n",
       "      <td>0.000000</td>\n",
       "      <td>0.000000</td>\n",
       "      <td>0.000000</td>\n",
       "      <td>0.000000</td>\n",
       "      <td>0.000000</td>\n",
       "      <td>0.000000</td>\n",
       "      <td>0.000000</td>\n",
       "      <td>0.000000</td>\n",
       "      <td>...</td>\n",
       "      <td>0.000000</td>\n",
       "      <td>0.000000</td>\n",
       "      <td>0.000000</td>\n",
       "      <td>0.000000</td>\n",
       "      <td>0.000000</td>\n",
       "      <td>0.000000</td>\n",
       "      <td>0.000000</td>\n",
       "      <td>0.000000</td>\n",
       "      <td>0.000000</td>\n",
       "      <td>0.000000</td>\n",
       "    </tr>\n",
       "    <tr>\n",
       "      <th>25%</th>\n",
       "      <td>1.000000</td>\n",
       "      <td>0.000000</td>\n",
       "      <td>0.000000</td>\n",
       "      <td>0.000000</td>\n",
       "      <td>0.000000</td>\n",
       "      <td>0.000000</td>\n",
       "      <td>0.000000</td>\n",
       "      <td>0.000000</td>\n",
       "      <td>0.000000</td>\n",
       "      <td>0.000000</td>\n",
       "      <td>...</td>\n",
       "      <td>0.000000</td>\n",
       "      <td>0.000000</td>\n",
       "      <td>0.000000</td>\n",
       "      <td>0.000000</td>\n",
       "      <td>0.000000</td>\n",
       "      <td>0.000000</td>\n",
       "      <td>0.000000</td>\n",
       "      <td>0.000000</td>\n",
       "      <td>0.000000</td>\n",
       "      <td>3.000000</td>\n",
       "    </tr>\n",
       "    <tr>\n",
       "      <th>50%</th>\n",
       "      <td>1.000000</td>\n",
       "      <td>0.000000</td>\n",
       "      <td>0.000000</td>\n",
       "      <td>0.000000</td>\n",
       "      <td>0.000000</td>\n",
       "      <td>0.000000</td>\n",
       "      <td>0.000000</td>\n",
       "      <td>0.000000</td>\n",
       "      <td>0.000000</td>\n",
       "      <td>0.000000</td>\n",
       "      <td>...</td>\n",
       "      <td>0.000000</td>\n",
       "      <td>0.000000</td>\n",
       "      <td>0.000000</td>\n",
       "      <td>0.000000</td>\n",
       "      <td>0.000000</td>\n",
       "      <td>0.000000</td>\n",
       "      <td>0.000000</td>\n",
       "      <td>0.000000</td>\n",
       "      <td>0.000000</td>\n",
       "      <td>5.000000</td>\n",
       "    </tr>\n",
       "    <tr>\n",
       "      <th>75%</th>\n",
       "      <td>1.000000</td>\n",
       "      <td>0.000000</td>\n",
       "      <td>0.000000</td>\n",
       "      <td>0.000000</td>\n",
       "      <td>0.000000</td>\n",
       "      <td>0.000000</td>\n",
       "      <td>0.000000</td>\n",
       "      <td>0.000000</td>\n",
       "      <td>0.000000</td>\n",
       "      <td>0.000000</td>\n",
       "      <td>...</td>\n",
       "      <td>0.000000</td>\n",
       "      <td>0.000000</td>\n",
       "      <td>0.000000</td>\n",
       "      <td>0.000000</td>\n",
       "      <td>0.000000</td>\n",
       "      <td>0.000000</td>\n",
       "      <td>0.000000</td>\n",
       "      <td>0.000000</td>\n",
       "      <td>0.000000</td>\n",
       "      <td>5.000000</td>\n",
       "    </tr>\n",
       "    <tr>\n",
       "      <th>max</th>\n",
       "      <td>46.000000</td>\n",
       "      <td>8.000000</td>\n",
       "      <td>8.000000</td>\n",
       "      <td>2.000000</td>\n",
       "      <td>479.000000</td>\n",
       "      <td>6.000000</td>\n",
       "      <td>6.000000</td>\n",
       "      <td>156.000000</td>\n",
       "      <td>65.000000</td>\n",
       "      <td>8.000000</td>\n",
       "      <td>...</td>\n",
       "      <td>5.000000</td>\n",
       "      <td>13.000000</td>\n",
       "      <td>59.000000</td>\n",
       "      <td>26.000000</td>\n",
       "      <td>24.000000</td>\n",
       "      <td>20.000000</td>\n",
       "      <td>25.000000</td>\n",
       "      <td>10.000000</td>\n",
       "      <td>24.000000</td>\n",
       "      <td>5.000000</td>\n",
       "    </tr>\n",
       "  </tbody>\n",
       "</table>\n",
       "<p>8 rows × 59 columns</p>\n",
       "</div>"
      ],
      "text/plain": [
       "             iphone  samsunggalaxy    sonyxperia   nokialumina      htcphone  \\\n",
       "count  12911.000000   12911.000000  12911.000000  12911.000000  12911.000000   \n",
       "mean       2.209356       0.071335      0.024088      0.002324      0.137480   \n",
       "std        6.071043       0.281264      0.171454      0.051266      4.233639   \n",
       "min        0.000000       0.000000      0.000000      0.000000      0.000000   \n",
       "25%        1.000000       0.000000      0.000000      0.000000      0.000000   \n",
       "50%        1.000000       0.000000      0.000000      0.000000      0.000000   \n",
       "75%        1.000000       0.000000      0.000000      0.000000      0.000000   \n",
       "max       46.000000       8.000000      8.000000      2.000000    479.000000   \n",
       "\n",
       "                ios  googleandroid  iphonecampos  samsungcampos    sonycampos  \\\n",
       "count  12911.000000   12911.000000  12911.000000   12911.000000  12911.000000   \n",
       "mean       0.152738       0.039734      0.289133       0.053675      0.009682   \n",
       "std        0.840622       0.255477      2.193111       0.712172      0.159829   \n",
       "min        0.000000       0.000000      0.000000       0.000000      0.000000   \n",
       "25%        0.000000       0.000000      0.000000       0.000000      0.000000   \n",
       "50%        0.000000       0.000000      0.000000       0.000000      0.000000   \n",
       "75%        0.000000       0.000000      0.000000       0.000000      0.000000   \n",
       "max        6.000000       6.000000    156.000000      65.000000      8.000000   \n",
       "\n",
       "            ...           sonyperunc   nokiaperunc     htcperunc  \\\n",
       "count       ...         12911.000000  12911.000000  12911.000000   \n",
       "mean        ...             0.002169      0.005577      0.064209   \n",
       "std         ...             0.085302      0.183688      0.831402   \n",
       "min         ...             0.000000      0.000000      0.000000   \n",
       "25%         ...             0.000000      0.000000      0.000000   \n",
       "50%         ...             0.000000      0.000000      0.000000   \n",
       "75%         ...             0.000000      0.000000      0.000000   \n",
       "max         ...             5.000000     13.000000     59.000000   \n",
       "\n",
       "          iosperpos  googleperpos     iosperneg  googleperneg     iosperunc  \\\n",
       "count  12911.000000  12911.000000  12911.000000  12911.000000  12911.000000   \n",
       "mean       0.059484      0.038727      0.057858      0.058477      0.033227   \n",
       "std        0.552041      0.427614      0.566683      0.587426      0.314477   \n",
       "min        0.000000      0.000000      0.000000      0.000000      0.000000   \n",
       "25%        0.000000      0.000000      0.000000      0.000000      0.000000   \n",
       "50%        0.000000      0.000000      0.000000      0.000000      0.000000   \n",
       "75%        0.000000      0.000000      0.000000      0.000000      0.000000   \n",
       "max       26.000000     24.000000     20.000000     25.000000     10.000000   \n",
       "\n",
       "       googleperunc  galaxysentiment  \n",
       "count  12911.000000     12911.000000  \n",
       "mean       0.016188         3.828518  \n",
       "std        0.286491         1.781224  \n",
       "min        0.000000         0.000000  \n",
       "25%        0.000000         3.000000  \n",
       "50%        0.000000         5.000000  \n",
       "75%        0.000000         5.000000  \n",
       "max       24.000000         5.000000  \n",
       "\n",
       "[8 rows x 59 columns]"
      ]
     },
     "execution_count": 6,
     "metadata": {},
     "output_type": "execute_result"
    }
   ],
   "source": [
    "Galaxy_df.describe()"
   ]
  },
  {
   "cell_type": "markdown",
   "metadata": {},
   "source": [
    "iPhone Sentiment range: min = 0.000000, max = 12973.000000"
   ]
  },
  {
   "cell_type": "markdown",
   "metadata": {},
   "source": [
    "Galaxy Sentiment range: min = 0.000000, max = 12911.000000"
   ]
  },
  {
   "cell_type": "markdown",
   "metadata": {},
   "source": [
    "## Data Visualisation"
   ]
  },
  {
   "cell_type": "code",
   "execution_count": 7,
   "metadata": {},
   "outputs": [
    {
     "data": {
      "text/plain": [
       "False"
      ]
     },
     "execution_count": 7,
     "metadata": {},
     "output_type": "execute_result"
    }
   ],
   "source": [
    "# Are there any missing values = False\n",
    "iPhone_df.isnull().values.any()"
   ]
  },
  {
   "cell_type": "code",
   "execution_count": 8,
   "metadata": {},
   "outputs": [
    {
     "data": {
      "text/plain": [
       "False"
      ]
     },
     "execution_count": 8,
     "metadata": {},
     "output_type": "execute_result"
    }
   ],
   "source": [
    "Galaxy_df.isnull().values.any()"
   ]
  },
  {
   "cell_type": "markdown",
   "metadata": {},
   "source": [
    "False = no missing values "
   ]
  },
  {
   "cell_type": "code",
   "execution_count": 9,
   "metadata": {},
   "outputs": [
    {
     "data": {
      "text/plain": [
       "<matplotlib.axes._subplots.AxesSubplot at 0x119db99b0>"
      ]
     },
     "execution_count": 9,
     "metadata": {},
     "output_type": "execute_result"
    },
    {
     "data": {
      "image/png": "[encoded data removed]",
      "text/plain": [
       "<Figure size 432x288 with 1 Axes>"
      ]
     },
     "metadata": {
      "needs_background": "light"
     },
     "output_type": "display_data"
    }
   ],
   "source": [
    "iPhone_df['iphonesentiment'].hist(bins = 100)"
   ]
  },
  {
   "cell_type": "code",
   "execution_count": 10,
   "metadata": {},
   "outputs": [
    {
     "data": {
      "text/plain": [
       "<matplotlib.axes._subplots.AxesSubplot at 0x11a185dd8>"
      ]
     },
     "execution_count": 10,
     "metadata": {},
     "output_type": "execute_result"
    },
    {
     "data": {
      "image/png": "[encoded data removed]",
      "text/plain": [
       "<Figure size 432x288 with 1 Axes>"
      ]
     },
     "metadata": {
      "needs_background": "light"
     },
     "output_type": "display_data"
    }
   ],
   "source": [
    "Galaxy_df['galaxysentiment'].hist(bins = 100)"
   ]
  },
  {
   "cell_type": "code",
   "execution_count": 11,
   "metadata": {},
   "outputs": [
    {
     "data": {
      "text/plain": [
       "<matplotlib.axes._subplots.AxesSubplot at 0x11a210240>"
      ]
     },
     "execution_count": 11,
     "metadata": {},
     "output_type": "execute_result"
    },
    {
     "data": {
      "image/png": "[encoded data removed]",
      "text/plain": [
       "<Figure size 432x288 with 1 Axes>"
      ]
     },
     "metadata": {
      "needs_background": "light"
     },
     "output_type": "display_data"
    }
   ],
   "source": [
    "sns.boxplot(x=iPhone_df['iphonesentiment'])"
   ]
  },
  {
   "cell_type": "code",
   "execution_count": 12,
   "metadata": {},
   "outputs": [
    {
     "data": {
      "text/plain": [
       "<matplotlib.axes._subplots.AxesSubplot at 0x11a38bd30>"
      ]
     },
     "execution_count": 12,
     "metadata": {},
     "output_type": "execute_result"
    },
    {
     "data": {
      "image/png": "[encoded data removed]",
      "text/plain": [
       "<Figure size 432x288 with 1 Axes>"
      ]
     },
     "metadata": {
      "needs_background": "light"
     },
     "output_type": "display_data"
    }
   ],
   "source": [
    "sns.boxplot(x=Galaxy_df['galaxysentiment'])"
   ]
  },
  {
   "cell_type": "code",
   "execution_count": 13,
   "metadata": {},
   "outputs": [
    {
     "name": "stderr",
     "output_type": "stream",
     "text": [
      "/Users/marilynannejelks/Environments/dev_env/lib/python3.7/site-packages/scipy/stats/stats.py:1713: FutureWarning: Using a non-tuple sequence for multidimensional indexing is deprecated; use `arr[tuple(seq)]` instead of `arr[seq]`. In the future this will be interpreted as an array index, `arr[np.array(seq)]`, which will result either in an error or a different result.\n",
      "  return np.add.reduce(sorted[indexer] * weights, axis=axis) / sumval\n"
     ]
    },
    {
     "data": {
      "text/plain": [
       "<matplotlib.axes._subplots.AxesSubplot at 0x11a735668>"
      ]
     },
     "execution_count": 13,
     "metadata": {},
     "output_type": "execute_result"
    },
    {
     "data": {
      "image/png": "[encoded data removed]",
      "text/plain": [
       "<Figure size 432x288 with 1 Axes>"
      ]
     },
     "metadata": {
      "needs_background": "light"
     },
     "output_type": "display_data"
    }
   ],
   "source": [
    "sns.violinplot(x=iPhone_df['iphonesentiment'])"
   ]
  },
  {
   "cell_type": "code",
   "execution_count": 14,
   "metadata": {},
   "outputs": [
    {
     "data": {
      "text/plain": [
       "<matplotlib.axes._subplots.AxesSubplot at 0x11a8659e8>"
      ]
     },
     "execution_count": 14,
     "metadata": {},
     "output_type": "execute_result"
    },
    {
     "data": {
      "image/png": "[encoded data removed]",
      "text/plain": [
       "<Figure size 432x288 with 1 Axes>"
      ]
     },
     "metadata": {
      "needs_background": "light"
     },
     "output_type": "display_data"
    }
   ],
   "source": [
    "sns.violinplot(x=Galaxy_df['galaxysentiment'])"
   ]
  },
  {
   "cell_type": "code",
   "execution_count": 15,
   "metadata": {},
   "outputs": [
    {
     "data": {
      "text/plain": [
       "<matplotlib.axes._subplots.AxesSubplot at 0x11a90d208>"
      ]
     },
     "execution_count": 15,
     "metadata": {},
     "output_type": "execute_result"
    },
    {
     "data": {
      "image/png": "[encoded data removed]",
      "text/plain": [
       "<Figure size 432x288 with 2 Axes>"
      ]
     },
     "metadata": {
      "needs_background": "light"
     },
     "output_type": "display_data"
    }
   ],
   "source": [
    "sns.heatmap(iPhone_df)"
   ]
  },
  {
   "cell_type": "code",
   "execution_count": 16,
   "metadata": {},
   "outputs": [
    {
     "data": {
      "text/plain": [
       "<matplotlib.axes._subplots.AxesSubplot at 0x120aa67b8>"
      ]
     },
     "execution_count": 16,
     "metadata": {},
     "output_type": "execute_result"
    },
    {
     "data": {
      "image/png": "[encoded data removed]",
      "text/plain": [
       "<Figure size 432x288 with 2 Axes>"
      ]
     },
     "metadata": {
      "needs_background": "light"
     },
     "output_type": "display_data"
    }
   ],
   "source": [
    "sns.heatmap(Galaxy_df)"
   ]
  },
  {
   "cell_type": "markdown",
   "metadata": {},
   "source": [
    "## Data pre-processing"
   ]
  },
  {
   "cell_type": "markdown",
   "metadata": {},
   "source": [
    "### Feature Selection using Random Forest = to remove unnecessary attributes"
   ]
  },
  {
   "cell_type": "code",
   "execution_count": 17,
   "metadata": {},
   "outputs": [],
   "source": [
    "# Create set from dependant variable\n",
    "y_iphone = iPhone_df['iphonesentiment'].values "
   ]
  },
  {
   "cell_type": "code",
   "execution_count": 18,
   "metadata": {},
   "outputs": [
    {
     "data": {
      "text/plain": [
       "array([0, 0, 0, ..., 5, 5, 5])"
      ]
     },
     "execution_count": 18,
     "metadata": {},
     "output_type": "execute_result"
    }
   ],
   "source": [
    "y_iphone"
   ]
  },
  {
   "cell_type": "code",
   "execution_count": 19,
   "metadata": {},
   "outputs": [],
   "source": [
    "y_galaxy = Galaxy_df['galaxysentiment'].values "
   ]
  },
  {
   "cell_type": "code",
   "execution_count": 20,
   "metadata": {},
   "outputs": [
    {
     "data": {
      "text/plain": [
       "array([5, 3, 3, ..., 4, 4, 5])"
      ]
     },
     "execution_count": 20,
     "metadata": {},
     "output_type": "execute_result"
    }
   ],
   "source": [
    "y_galaxy"
   ]
  },
  {
   "cell_type": "code",
   "execution_count": 21,
   "metadata": {},
   "outputs": [],
   "source": [
    "# Create set from independant variables \n",
    "x_iphone = iPhone_df.loc[:,iPhone_df.columns !='iphonesentiment'].values"
   ]
  },
  {
   "cell_type": "code",
   "execution_count": 22,
   "metadata": {},
   "outputs": [],
   "source": [
    "x_galaxy = Galaxy_df.loc[:,Galaxy_df.columns !='galaxysentiment'].values"
   ]
  },
  {
   "cell_type": "code",
   "execution_count": 23,
   "metadata": {},
   "outputs": [
    {
     "name": "stdout",
     "output_type": "stream",
     "text": [
      "[[1 0 0 ... 0 0 0]\n",
      " [1 0 0 ... 0 0 0]\n",
      " [1 0 0 ... 0 0 0]\n",
      " ...\n",
      " [1 0 0 ... 0 0 0]\n",
      " [2 0 0 ... 0 0 0]\n",
      " [1 0 0 ... 0 0 0]]\n",
      "[[1 0 0 ... 0 0 0]\n",
      " [1 0 0 ... 0 0 0]\n",
      " [1 1 0 ... 0 0 0]\n",
      " ...\n",
      " [1 0 0 ... 0 0 0]\n",
      " [1 0 0 ... 0 0 0]\n",
      " [1 0 0 ... 0 0 0]]\n"
     ]
    }
   ],
   "source": [
    "print(x_iphone)\n",
    "\n",
    "print(x_galaxy)"
   ]
  },
  {
   "cell_type": "code",
   "execution_count": 24,
   "metadata": {},
   "outputs": [],
   "source": [
    "feat_labels_iphone = iPhone_df.loc[:,iPhone_df.columns !='iphonesentiment'].columns.values"
   ]
  },
  {
   "cell_type": "code",
   "execution_count": 25,
   "metadata": {},
   "outputs": [
    {
     "data": {
      "text/plain": [
       "array(['iphone', 'samsunggalaxy', 'sonyxperia', 'nokialumina', 'htcphone',\n",
       "       'ios', 'googleandroid', 'iphonecampos', 'samsungcampos',\n",
       "       'sonycampos', 'nokiacampos', 'htccampos', 'iphonecamneg',\n",
       "       'samsungcamneg', 'sonycamneg', 'nokiacamneg', 'htccamneg',\n",
       "       'iphonecamunc', 'samsungcamunc', 'sonycamunc', 'nokiacamunc',\n",
       "       'htccamunc', 'iphonedispos', 'samsungdispos', 'sonydispos',\n",
       "       'nokiadispos', 'htcdispos', 'iphonedisneg', 'samsungdisneg',\n",
       "       'sonydisneg', 'nokiadisneg', 'htcdisneg', 'iphonedisunc',\n",
       "       'samsungdisunc', 'sonydisunc', 'nokiadisunc', 'htcdisunc',\n",
       "       'iphoneperpos', 'samsungperpos', 'sonyperpos', 'nokiaperpos',\n",
       "       'htcperpos', 'iphoneperneg', 'samsungperneg', 'sonyperneg',\n",
       "       'nokiaperneg', 'htcperneg', 'iphoneperunc', 'samsungperunc',\n",
       "       'sonyperunc', 'nokiaperunc', 'htcperunc', 'iosperpos',\n",
       "       'googleperpos', 'iosperneg', 'googleperneg', 'iosperunc',\n",
       "       'googleperunc'], dtype=object)"
      ]
     },
     "execution_count": 25,
     "metadata": {},
     "output_type": "execute_result"
    }
   ],
   "source": [
    "feat_labels_iphone"
   ]
  },
  {
   "cell_type": "code",
   "execution_count": 26,
   "metadata": {},
   "outputs": [],
   "source": [
    "feat_labels_galaxy = Galaxy_df.loc[:,Galaxy_df.columns !='galaxysentiment'].columns.values"
   ]
  },
  {
   "cell_type": "code",
   "execution_count": 27,
   "metadata": {},
   "outputs": [
    {
     "data": {
      "text/plain": [
       "array(['iphone', 'samsunggalaxy', 'sonyxperia', 'nokialumina', 'htcphone',\n",
       "       'ios', 'googleandroid', 'iphonecampos', 'samsungcampos',\n",
       "       'sonycampos', 'nokiacampos', 'htccampos', 'iphonecamneg',\n",
       "       'samsungcamneg', 'sonycamneg', 'nokiacamneg', 'htccamneg',\n",
       "       'iphonecamunc', 'samsungcamunc', 'sonycamunc', 'nokiacamunc',\n",
       "       'htccamunc', 'iphonedispos', 'samsungdispos', 'sonydispos',\n",
       "       'nokiadispos', 'htcdispos', 'iphonedisneg', 'samsungdisneg',\n",
       "       'sonydisneg', 'nokiadisneg', 'htcdisneg', 'iphonedisunc',\n",
       "       'samsungdisunc', 'sonydisunc', 'nokiadisunc', 'htcdisunc',\n",
       "       'iphoneperpos', 'samsungperpos', 'sonyperpos', 'nokiaperpos',\n",
       "       'htcperpos', 'iphoneperneg', 'samsungperneg', 'sonyperneg',\n",
       "       'nokiaperneg', 'htcperneg', 'iphoneperunc', 'samsungperunc',\n",
       "       'sonyperunc', 'nokiaperunc', 'htcperunc', 'iosperpos',\n",
       "       'googleperpos', 'iosperneg', 'googleperneg', 'iosperunc',\n",
       "       'googleperunc'], dtype=object)"
      ]
     },
     "execution_count": 27,
     "metadata": {},
     "output_type": "execute_result"
    }
   ],
   "source": [
    "feat_labels_galaxy"
   ]
  },
  {
   "cell_type": "code",
   "execution_count": 28,
   "metadata": {},
   "outputs": [],
   "source": [
    "# Create a random forest classifier for iphone & galaxy\n",
    "clf_iphone = RandomForestClassifier(n_estimators=10000, random_state=0, n_jobs=-1)"
   ]
  },
  {
   "cell_type": "code",
   "execution_count": 29,
   "metadata": {},
   "outputs": [],
   "source": [
    "clf_galaxy = RandomForestClassifier(n_estimators=10000, random_state=0, n_jobs=-1)"
   ]
  },
  {
   "cell_type": "code",
   "execution_count": 30,
   "metadata": {},
   "outputs": [
    {
     "data": {
      "text/plain": [
       "RandomForestClassifier(bootstrap=True, class_weight=None, criterion='gini',\n",
       "            max_depth=None, max_features='auto', max_leaf_nodes=None,\n",
       "            min_impurity_decrease=0.0, min_impurity_split=None,\n",
       "            min_samples_leaf=1, min_samples_split=2,\n",
       "            min_weight_fraction_leaf=0.0, n_estimators=10000, n_jobs=-1,\n",
       "            oob_score=False, random_state=0, verbose=0, warm_start=False)"
      ]
     },
     "execution_count": 30,
     "metadata": {},
     "output_type": "execute_result"
    }
   ],
   "source": [
    "# Train the classifier\n",
    "clf_iphone.fit(x_iphone, y_iphone)"
   ]
  },
  {
   "cell_type": "code",
   "execution_count": 31,
   "metadata": {},
   "outputs": [
    {
     "data": {
      "text/plain": [
       "RandomForestClassifier(bootstrap=True, class_weight=None, criterion='gini',\n",
       "            max_depth=None, max_features='auto', max_leaf_nodes=None,\n",
       "            min_impurity_decrease=0.0, min_impurity_split=None,\n",
       "            min_samples_leaf=1, min_samples_split=2,\n",
       "            min_weight_fraction_leaf=0.0, n_estimators=10000, n_jobs=-1,\n",
       "            oob_score=False, random_state=0, verbose=0, warm_start=False)"
      ]
     },
     "execution_count": 31,
     "metadata": {},
     "output_type": "execute_result"
    }
   ],
   "source": [
    "clf_galaxy.fit(x_galaxy, y_galaxy)"
   ]
  },
  {
   "cell_type": "code",
   "execution_count": 32,
   "metadata": {},
   "outputs": [
    {
     "name": "stdout",
     "output_type": "stream",
     "text": [
      "('iphone', 0.20767563662932476)\n",
      "('samsunggalaxy', 0.08292644361623637)\n",
      "('sonyxperia', 0.02363261034981872)\n",
      "('nokialumina', 0.00046021565955596885)\n",
      "('htcphone', 0.06135880861432729)\n",
      "('ios', 0.021487122263293912)\n",
      "('googleandroid', 0.05636816168149349)\n",
      "('iphonecampos', 0.032370162713218686)\n",
      "('samsungcampos', 0.0038075653557148137)\n",
      "('sonycampos', 0.0008925110647885057)\n",
      "('nokiacampos', 0.00020942332457259)\n",
      "('htccampos', 0.016133577197048044)\n",
      "('iphonecamneg', 0.02663938670258994)\n",
      "('samsungcamneg', 0.0014571740370663336)\n",
      "('sonycamneg', 0.00017812878766302717)\n",
      "('nokiacamneg', 0.0001595738345475928)\n",
      "('htccamneg', 0.006000402965038773)\n",
      "('iphonecamunc', 0.032122772085700045)\n",
      "('samsungcamunc', 0.0028102877368799814)\n",
      "('sonycamunc', 0.0003303266977532202)\n",
      "('nokiacamunc', 9.571690941772418e-05)\n",
      "('htccamunc', 0.004366159876042803)\n",
      "('iphonedispos', 0.0666255125011188)\n",
      "('samsungdispos', 0.004169202125587724)\n",
      "('sonydispos', 0.0006951055590662761)\n",
      "('nokiadispos', 0.00040838911012995924)\n",
      "('htcdispos', 0.01575621076860284)\n",
      "('iphonedisneg', 0.0677328875778935)\n",
      "('samsungdisneg', 0.0023392565658467155)\n",
      "('sonydisneg', 0.00024798505363900734)\n",
      "('nokiadisneg', 0.00022056691154685666)\n",
      "('htcdisneg', 0.00749051283587532)\n",
      "('iphonedisunc', 0.07047355160766669)\n",
      "('samsungdisunc', 0.00228016046873283)\n",
      "('sonydisunc', 0.0003491960213395776)\n",
      "('nokiadisunc', 0.00013882919338773522)\n",
      "('htcdisunc', 0.004982666966539345)\n",
      "('iphoneperpos', 0.060033785697562646)\n",
      "('samsungperpos', 0.005325879394819929)\n",
      "('sonyperpos', 0.001699449773509072)\n",
      "('nokiaperpos', 0.00037679002682860954)\n",
      "('htcperpos', 0.01231663146048473)\n",
      "('iphoneperneg', 0.037360264851685226)\n",
      "('samsungperneg', 0.0016837706938032774)\n",
      "('sonyperneg', 0.0002923745597641699)\n",
      "('nokiaperneg', 0.0003104266324324521)\n",
      "('htcperneg', 0.007580305068554067)\n",
      "('iphoneperunc', 0.0313391837310206)\n",
      "('samsungperunc', 0.0015244039121852027)\n",
      "('sonyperunc', 0.00022098649977205856)\n",
      "('nokiaperunc', 0.00017447238555175505)\n",
      "('htcperunc', 0.0036399286906501757)\n",
      "('iosperpos', 0.0024348870871952377)\n",
      "('googleperpos', 0.0021764927901174063)\n",
      "('iosperneg', 0.002102924159375975)\n",
      "('googleperneg', 0.001493837278764628)\n",
      "('iosperunc', 0.001478578036485623)\n",
      "('googleperunc', 0.0010424259003720283)\n"
     ]
    }
   ],
   "source": [
    "# Print the name and gini importance of each feature\n",
    "for feature in zip(feat_labels_iphone, clf_iphone.feature_importances_):\n",
    "    print(feature)"
   ]
  },
  {
   "cell_type": "code",
   "execution_count": 33,
   "metadata": {},
   "outputs": [
    {
     "name": "stdout",
     "output_type": "stream",
     "text": [
      "('iphone', 0.20255337968314324)\n",
      "('samsunggalaxy', 0.08038695181461104)\n",
      "('sonyxperia', 0.021782478646126126)\n",
      "('nokialumina', 0.0005256085181272973)\n",
      "('htcphone', 0.05929922372436331)\n",
      "('ios', 0.021295374454235197)\n",
      "('googleandroid', 0.052062915773967135)\n",
      "('iphonecampos', 0.03316586163286276)\n",
      "('samsungcampos', 0.003938224058138021)\n",
      "('sonycampos', 0.001131308465891867)\n",
      "('nokiacampos', 0.0003015905180254724)\n",
      "('htccampos', 0.018261892545062067)\n",
      "('iphonecamneg', 0.027254230951712408)\n",
      "('samsungcamneg', 0.0015852799959090193)\n",
      "('sonycamneg', 0.00020446729035333627)\n",
      "('nokiacamneg', 0.00022600545181503877)\n",
      "('htccamneg', 0.006864323372412969)\n",
      "('iphonecamunc', 0.03273362720052216)\n",
      "('samsungcamunc', 0.003164674225632619)\n",
      "('sonycamunc', 0.00037763456625307195)\n",
      "('nokiacamunc', 0.00019111641466806157)\n",
      "('htccamunc', 0.005001063575414379)\n",
      "('iphonedispos', 0.06414588141729528)\n",
      "('samsungdispos', 0.004747832100575758)\n",
      "('sonydispos', 0.001085852728908138)\n",
      "('nokiadispos', 0.0005063747353220189)\n",
      "('htcdispos', 0.016938125433433968)\n",
      "('iphonedisneg', 0.0678203692180202)\n",
      "('samsungdisneg', 0.002986392594244934)\n",
      "('sonydisneg', 0.0003100197348876183)\n",
      "('nokiadisneg', 0.00034339570805861974)\n",
      "('htcdisneg', 0.008693782056600085)\n",
      "('iphonedisunc', 0.06746494268466943)\n",
      "('samsungdisunc', 0.0027119851533667512)\n",
      "('sonydisunc', 0.0004496069045262807)\n",
      "('nokiadisunc', 0.00021284576512492213)\n",
      "('htcdisunc', 0.00602587248605249)\n",
      "('iphoneperpos', 0.05956314828828117)\n",
      "('samsungperpos', 0.005575304026689868)\n",
      "('sonyperpos', 0.0022528813627881125)\n",
      "('nokiaperpos', 0.0005028410585724312)\n",
      "('htcperpos', 0.013545756032651306)\n",
      "('iphoneperneg', 0.03755523640373998)\n",
      "('samsungperneg', 0.0017440324640573312)\n",
      "('sonyperneg', 0.00034589117402153234)\n",
      "('nokiaperneg', 0.00040077180098118764)\n",
      "('htcperneg', 0.009535745693741562)\n",
      "('iphoneperunc', 0.03241285972302136)\n",
      "('samsungperunc', 0.0016740461481892111)\n",
      "('sonyperunc', 0.0002179572905909088)\n",
      "('nokiaperunc', 0.00026892443884386064)\n",
      "('htcperunc', 0.004271615697183237)\n",
      "('iosperpos', 0.003420430613889511)\n",
      "('googleperpos', 0.0022921168738099344)\n",
      "('iosperneg', 0.0027398231855150124)\n",
      "('googleperneg', 0.0016171390948550599)\n",
      "('iosperunc', 0.002154984276998773)\n",
      "('googleperunc', 0.0011579827512462192)\n"
     ]
    }
   ],
   "source": [
    "# Print the name and gini importance of each feature\n",
    "for feature in zip(feat_labels_galaxy, clf_galaxy.feature_importances_):\n",
    "    print(feature)"
   ]
  },
  {
   "cell_type": "code",
   "execution_count": 34,
   "metadata": {},
   "outputs": [
    {
     "data": {
      "text/plain": [
       "SelectFromModel(estimator=RandomForestClassifier(bootstrap=True, class_weight=None, criterion='gini',\n",
       "            max_depth=None, max_features='auto', max_leaf_nodes=None,\n",
       "            min_impurity_decrease=0.0, min_impurity_split=None,\n",
       "            min_samples_leaf=1, min_samples_split=2,\n",
       "            min_weight_fraction_leaf=0.0, n_estimators=10000, n_jobs=-1,\n",
       "            oob_score=False, random_state=0, verbose=0, warm_start=False),\n",
       "        max_features=None, norm_order=1, prefit=False, threshold=0.015)"
      ]
     },
     "execution_count": 34,
     "metadata": {},
     "output_type": "execute_result"
    }
   ],
   "source": [
    "# Create a selector object that will use the random forest classifier to identify\n",
    "# features that have an importance of more than 0.15\n",
    "sfm = SelectFromModel(clf_iphone, threshold=0.015)\n",
    "\n",
    "# Train the selector\n",
    "sfm.fit(x_iphone, y_iphone)"
   ]
  },
  {
   "cell_type": "code",
   "execution_count": 35,
   "metadata": {},
   "outputs": [
    {
     "data": {
      "text/plain": [
       "SelectFromModel(estimator=RandomForestClassifier(bootstrap=True, class_weight=None, criterion='gini',\n",
       "            max_depth=None, max_features='auto', max_leaf_nodes=None,\n",
       "            min_impurity_decrease=0.0, min_impurity_split=None,\n",
       "            min_samples_leaf=1, min_samples_split=2,\n",
       "            min_weight_fraction_leaf=0.0, n_estimators=10000, n_jobs=-1,\n",
       "            oob_score=False, random_state=0, verbose=0, warm_start=False),\n",
       "        max_features=None, norm_order=1, prefit=False, threshold=0.015)"
      ]
     },
     "execution_count": 35,
     "metadata": {},
     "output_type": "execute_result"
    }
   ],
   "source": [
    "sfm = SelectFromModel(clf_galaxy, threshold=0.015)\n",
    "\n",
    "# Train the selector\n",
    "sfm.fit(x_galaxy, y_galaxy)"
   ]
  },
  {
   "cell_type": "code",
   "execution_count": 36,
   "metadata": {},
   "outputs": [
    {
     "name": "stdout",
     "output_type": "stream",
     "text": [
      "iphone\n",
      "samsunggalaxy\n",
      "sonyxperia\n",
      "htcphone\n",
      "ios\n",
      "googleandroid\n",
      "iphonecampos\n",
      "htccampos\n",
      "iphonecamneg\n",
      "iphonecamunc\n",
      "iphonedispos\n",
      "htcdispos\n",
      "iphonedisneg\n",
      "iphonedisunc\n",
      "iphoneperpos\n",
      "iphoneperneg\n",
      "iphoneperunc\n"
     ]
    }
   ],
   "source": [
    "# Print the names of the most important features: iphone\n",
    "iphone_names_feat = []\n",
    "for feature_list_index in sfm.get_support(indices=True):\n",
    "    iphone_names_feat.append(feat_labels_iphone[feature_list_index])\n",
    "    print(feat_labels_iphone[feature_list_index])"
   ]
  },
  {
   "cell_type": "code",
   "execution_count": 37,
   "metadata": {},
   "outputs": [],
   "source": [
    "iPhone_x =iPhone_df[iphone_names_feat]"
   ]
  },
  {
   "cell_type": "code",
   "execution_count": 38,
   "metadata": {},
   "outputs": [
    {
     "name": "stdout",
     "output_type": "stream",
     "text": [
      "iphone\n",
      "samsunggalaxy\n",
      "sonyxperia\n",
      "htcphone\n",
      "ios\n",
      "googleandroid\n",
      "iphonecampos\n",
      "htccampos\n",
      "iphonecamneg\n",
      "iphonecamunc\n",
      "iphonedispos\n",
      "htcdispos\n",
      "iphonedisneg\n",
      "iphonedisunc\n",
      "iphoneperpos\n",
      "iphoneperneg\n",
      "iphoneperunc\n"
     ]
    }
   ],
   "source": [
    "# Print the names of the most important features: galaxy\n",
    "galaxy_names_feat = []\n",
    "for feature_list_index in sfm.get_support(indices=True):\n",
    "    galaxy_names_feat.append(feat_labels_galaxy[feature_list_index])\n",
    "    print(feat_labels_galaxy[feature_list_index])"
   ]
  },
  {
   "cell_type": "code",
   "execution_count": 39,
   "metadata": {},
   "outputs": [],
   "source": [
    "Galaxy_x = Galaxy_df[galaxy_names_feat]"
   ]
  },
  {
   "cell_type": "markdown",
   "metadata": {},
   "source": [
    "### Create A Data Subset With Only The Most Important Features"
   ]
  },
  {
   "cell_type": "code",
   "execution_count": 40,
   "metadata": {},
   "outputs": [],
   "source": [
    "# Transform the data to create a new dataset containing only the most important features\n",
    "# Note: We have to apply the transform to both the training X and test X data.\n",
    "x_important_iphone = sfm.transform(x_iphone)"
   ]
  },
  {
   "cell_type": "code",
   "execution_count": 41,
   "metadata": {},
   "outputs": [],
   "source": [
    "x_important_galaxy = sfm.transform(x_galaxy)"
   ]
  },
  {
   "cell_type": "markdown",
   "metadata": {},
   "source": [
    "## Discretizing"
   ]
  },
  {
   "cell_type": "code",
   "execution_count": 42,
   "metadata": {},
   "outputs": [
    {
     "data": {
      "text/plain": [
       "DescribeResult(nobs=12973, minmax=(0, 5), mean=3.724504740615124, variance=3.4274884322354655, skewness=-1.1706923771075137, kurtosis=-0.22176338726720246)"
      ]
     },
     "execution_count": 42,
     "metadata": {},
     "output_type": "execute_result"
    }
   ],
   "source": [
    "stats.describe(y_iphone)"
   ]
  },
  {
   "cell_type": "code",
   "execution_count": 43,
   "metadata": {},
   "outputs": [
    {
     "data": {
      "text/plain": [
       "DescribeResult(nobs=12911, minmax=(0, 5), mean=3.8285183177135775, variance=3.1727606162213684, skewness=-1.2980988413752597, kurtosis=0.1480860434737905)"
      ]
     },
     "execution_count": 43,
     "metadata": {},
     "output_type": "execute_result"
    }
   ],
   "source": [
    "stats.describe(y_galaxy)"
   ]
  },
  {
   "cell_type": "code",
   "execution_count": 44,
   "metadata": {},
   "outputs": [],
   "source": [
    "y_iphone_categorical = pd.cut(y_iphone, bins = 7, labels = ['very negative'\n",
    "                            , 'negative'\n",
    "                            , 'somewhat negative'\n",
    "                            , 'neutral'\n",
    "                            , 'somewhat positive'\n",
    "                            , 'positive'\n",
    "                            , 'very positive'])"
   ]
  },
  {
   "cell_type": "code",
   "execution_count": 45,
   "metadata": {},
   "outputs": [],
   "source": [
    "y_galaxy_categorical = pd.cut(y_galaxy, bins = 7, labels = [\"very negative\"\n",
    "                             , \"negative\"\n",
    "                             , \"somewhat negative\"\n",
    "                             , \"neutral\"\n",
    "                             , \"somewhat positive\"\n",
    "                             , \"positive\"\n",
    "                             , \"very positive\"])"
   ]
  },
  {
   "cell_type": "code",
   "execution_count": 46,
   "metadata": {},
   "outputs": [
    {
     "data": {
      "text/plain": [
       "[very negative, very negative, very negative, very negative, very negative, ..., very positive, very negative, very positive, very positive, very positive]\n",
       "Length: 12973\n",
       "Categories (7, object): [very negative < negative < somewhat negative < neutral < somewhat positive < positive < very positive]"
      ]
     },
     "execution_count": 46,
     "metadata": {},
     "output_type": "execute_result"
    }
   ],
   "source": [
    "y_iphone_categorical"
   ]
  },
  {
   "cell_type": "code",
   "execution_count": 47,
   "metadata": {},
   "outputs": [
    {
     "data": {
      "text/plain": [
       "[very positive, somewhat positive, somewhat positive, very negative, negative, ..., very positive, very positive, positive, positive, very positive]\n",
       "Length: 12911\n",
       "Categories (7, object): [very negative < negative < somewhat negative < neutral < somewhat positive < positive < very positive]"
      ]
     },
     "execution_count": 47,
     "metadata": {},
     "output_type": "execute_result"
    }
   ],
   "source": [
    "y_galaxy_categorical"
   ]
  },
  {
   "cell_type": "markdown",
   "metadata": {},
   "source": [
    "### Previewing Discretization"
   ]
  },
  {
   "cell_type": "code",
   "execution_count": 48,
   "metadata": {},
   "outputs": [],
   "source": [
    "# Convert the array to a dataframe: iphone and galaxy\n",
    "y_iphone_categorical_df = pd.DataFrame([y_iphone_categorical])"
   ]
  },
  {
   "cell_type": "code",
   "execution_count": 49,
   "metadata": {},
   "outputs": [],
   "source": [
    "y_galaxy_categorical_df = pd.DataFrame([y_galaxy_categorical])"
   ]
  },
  {
   "cell_type": "code",
   "execution_count": 50,
   "metadata": {},
   "outputs": [],
   "source": [
    "# Group by category to get the size of each bin\n",
    "y_iphone_categorical_df_group = y_iphone_categorical_df.groupby(0).size()"
   ]
  },
  {
   "cell_type": "code",
   "execution_count": 51,
   "metadata": {},
   "outputs": [],
   "source": [
    "y_galaxy_categorical_df_group = y_galaxy_categorical_df.groupby(0).size()"
   ]
  },
  {
   "cell_type": "code",
   "execution_count": 52,
   "metadata": {},
   "outputs": [],
   "source": [
    "# Fetches category lables\n",
    "categories = y_iphone_categorical_df[0].cat.categories"
   ]
  },
  {
   "cell_type": "code",
   "execution_count": 53,
   "metadata": {},
   "outputs": [],
   "source": [
    "# An array of values representing each category, i.e display the bar graph\n",
    "ind = np.array([x for x, _ in enumerate(categories)])\n",
    "width = 0.35"
   ]
  },
  {
   "cell_type": "code",
   "execution_count": 54,
   "metadata": {},
   "outputs": [
    {
     "data": {
      "image/png": "[encoded data removed]",
      "text/plain": [
       "<Figure size 432x288 with 1 Axes>"
      ]
     },
     "metadata": {
      "needs_background": "light"
     },
     "output_type": "display_data"
    }
   ],
   "source": [
    "plt.bar(ind, y_iphone_categorical_df_group, width,  label= \"iPhone\")\n",
    "plt.bar(ind + width, y_galaxy_categorical_df_group, width, label = \"Galaxy\")\n",
    "plt.xticks(ind + width /2, categories)\n",
    "plt.legend(loc = \"best\")\n",
    "plt.xticks(rotation = 90)\n",
    "plt.show()"
   ]
  },
  {
   "cell_type": "markdown",
   "metadata": {},
   "source": [
    "## Model Development & Evaluation"
   ]
  },
  {
   "cell_type": "code",
   "execution_count": 55,
   "metadata": {},
   "outputs": [
    {
     "name": "stdout",
     "output_type": "stream",
     "text": [
      "(12973, 17) (12911, 17)\n",
      "(12973,) (12911,)\n"
     ]
    }
   ],
   "source": [
    "print(iPhone_x.shape, Galaxy_x.shape)\n",
    "print(y_iphone_categorical.shape,y_galaxy_categorical.shape)"
   ]
  },
  {
   "cell_type": "code",
   "execution_count": 56,
   "metadata": {},
   "outputs": [
    {
     "name": "stderr",
     "output_type": "stream",
     "text": [
      "/Users/marilynannejelks/Environments/dev_env/lib/python3.7/site-packages/ipykernel_launcher.py:2: SettingWithCopyWarning: \n",
      "A value is trying to be set on a copy of a slice from a DataFrame.\n",
      "Try using .loc[row_indexer,col_indexer] = value instead\n",
      "\n",
      "See the caveats in the documentation: http://pandas.pydata.org/pandas-docs/stable/indexing.html#indexing-view-versus-copy\n",
      "  \n"
     ]
    }
   ],
   "source": [
    "iPhone_complete = iPhone_x\n",
    "iPhone_complete['sentiment'] = y_iphone_categorical"
   ]
  },
  {
   "cell_type": "code",
   "execution_count": 57,
   "metadata": {},
   "outputs": [
    {
     "name": "stderr",
     "output_type": "stream",
     "text": [
      "/Users/marilynannejelks/Environments/dev_env/lib/python3.7/site-packages/ipykernel_launcher.py:2: SettingWithCopyWarning: \n",
      "A value is trying to be set on a copy of a slice from a DataFrame.\n",
      "Try using .loc[row_indexer,col_indexer] = value instead\n",
      "\n",
      "See the caveats in the documentation: http://pandas.pydata.org/pandas-docs/stable/indexing.html#indexing-view-versus-copy\n",
      "  \n"
     ]
    }
   ],
   "source": [
    "Galaxy_complete = Galaxy_x\n",
    "Galaxy_complete['sentiment'] = y_galaxy_categorical"
   ]
  },
  {
   "cell_type": "code",
   "execution_count": 58,
   "metadata": {},
   "outputs": [],
   "source": [
    "from sklearn.model_selection import train_test_split"
   ]
  },
  {
   "cell_type": "markdown",
   "metadata": {},
   "source": [
    "### Train/Test Split for iPhone"
   ]
  },
  {
   "cell_type": "code",
   "execution_count": 59,
   "metadata": {},
   "outputs": [],
   "source": [
    "x_train_iphone, x_test_iphone, y_train_iphone, y_test_iphone = train_test_split(iPhone_complete.loc[:, iPhone_complete.columns != 'sentiment'], iPhone_complete['sentiment'], test_size=0.30, random_state=424)"
   ]
  },
  {
   "cell_type": "code",
   "execution_count": 60,
   "metadata": {},
   "outputs": [
    {
     "data": {
      "text/plain": [
       "(9081, 17)"
      ]
     },
     "execution_count": 60,
     "metadata": {},
     "output_type": "execute_result"
    }
   ],
   "source": [
    "x_train_iphone.shape"
   ]
  },
  {
   "cell_type": "code",
   "execution_count": 61,
   "metadata": {},
   "outputs": [
    {
     "data": {
      "text/plain": [
       "(3892, 17)"
      ]
     },
     "execution_count": 61,
     "metadata": {},
     "output_type": "execute_result"
    }
   ],
   "source": [
    "x_test_iphone.shape"
   ]
  },
  {
   "cell_type": "markdown",
   "metadata": {},
   "source": [
    "### Train/Test Split for Galaxy"
   ]
  },
  {
   "cell_type": "code",
   "execution_count": 62,
   "metadata": {},
   "outputs": [],
   "source": [
    "x_train_galaxy, x_test_galaxy, y_train_galaxy, y_test_galaxy = train_test_split(Galaxy_complete.loc[:, Galaxy_complete.columns != 'sentiment'], Galaxy_complete['sentiment'], test_size=0.30, random_state=424)"
   ]
  },
  {
   "cell_type": "markdown",
   "metadata": {},
   "source": [
    "### Naive Bayes Classification: iPhone"
   ]
  },
  {
   "cell_type": "code",
   "execution_count": 63,
   "metadata": {},
   "outputs": [],
   "source": [
    "from sklearn.naive_bayes import GaussianNB"
   ]
  },
  {
   "cell_type": "code",
   "execution_count": 163,
   "metadata": {},
   "outputs": [],
   "source": [
    "gnb_iphone = GaussianNB() # Initialise the Model"
   ]
  },
  {
   "cell_type": "code",
   "execution_count": 164,
   "metadata": {},
   "outputs": [
    {
     "data": {
      "text/plain": [
       "GaussianNB(priors=None, var_smoothing=1e-09)"
      ]
     },
     "execution_count": 164,
     "metadata": {},
     "output_type": "execute_result"
    }
   ],
   "source": [
    "gnb_iphone.fit(x_train_iphone, y_train_iphone) # Fitted the Model (to train model)"
   ]
  },
  {
   "cell_type": "code",
   "execution_count": 165,
   "metadata": {},
   "outputs": [],
   "source": [
    "# predicting against test(validation) set\n",
    "y_iphone_pred = gnb_iphone.predict(x_test_iphone)"
   ]
  },
  {
   "cell_type": "code",
   "execution_count": 166,
   "metadata": {},
   "outputs": [
    {
     "name": "stdout",
     "output_type": "stream",
     "text": [
      "Accuracy:0.14\n",
      "Kappa:0.08\n"
     ]
    }
   ],
   "source": [
    "# Accuracy\n",
    "accuracy = accuracy_score(y_test_iphone, y_iphone_pred)\n",
    "print('Accuracy:{:.2f}'.format(accuracy))\n",
    "\n",
    "# Kappa \n",
    "from sklearn.metrics import accuracy_score, cohen_kappa_score\n",
    "kappa = cohen_kappa_score(y_test_iphone, y_iphone_pred)\n",
    "print('Kappa:{:.2f}'.format(kappa))"
   ]
  },
  {
   "cell_type": "code",
   "execution_count": 68,
   "metadata": {},
   "outputs": [
    {
     "name": "stdout",
     "output_type": "stream",
     "text": [
      "[[ 121    3    0    1    0    4]\n",
      " [ 266  139    5    6    8    7]\n",
      " [  98    5   22    3    0    3]\n",
      " [ 232   10   34   54    4    4]\n",
      " [ 197    8    1  191  141   43]\n",
      " [2088   72   18   44    7   53]]\n"
     ]
    }
   ],
   "source": [
    "# Confusion Matrix: iPhone\n",
    "from sklearn.metrics import confusion_matrix\n",
    "\n",
    "cm = confusion_matrix(y_test_iphone, y_iphone_pred)\n",
    "print(cm)"
   ]
  },
  {
   "cell_type": "code",
   "execution_count": 69,
   "metadata": {},
   "outputs": [],
   "source": [
    "import seaborn as sn"
   ]
  },
  {
   "cell_type": "code",
   "execution_count": 70,
   "metadata": {},
   "outputs": [
    {
     "data": {
      "text/plain": [
       "<matplotlib.axes._subplots.AxesSubplot at 0x123549518>"
      ]
     },
     "execution_count": 70,
     "metadata": {},
     "output_type": "execute_result"
    },
    {
     "data": {
      "image/png": "[encoded data removed]",
      "text/plain": [
       "<Figure size 432x288 with 2 Axes>"
      ]
     },
     "metadata": {},
     "output_type": "display_data"
    }
   ],
   "source": [
    "sn.set(font_scale=1.4) #for label size\n",
    "sn.heatmap(cm, annot=True,annot_kws={\"size\": 16}) # font size"
   ]
  },
  {
   "cell_type": "markdown",
   "metadata": {},
   "source": [
    "### Naive Bayes Classification: Galaxy"
   ]
  },
  {
   "cell_type": "code",
   "execution_count": 168,
   "metadata": {},
   "outputs": [],
   "source": [
    "gnb_galaxy = GaussianNB() # Initialise the Model"
   ]
  },
  {
   "cell_type": "code",
   "execution_count": 169,
   "metadata": {},
   "outputs": [
    {
     "data": {
      "text/plain": [
       "GaussianNB(priors=None, var_smoothing=1e-09)"
      ]
     },
     "execution_count": 169,
     "metadata": {},
     "output_type": "execute_result"
    }
   ],
   "source": [
    "gnb_galaxy.fit(x_train_galaxy, y_train_galaxy) # Fit Model (to train model)"
   ]
  },
  {
   "cell_type": "code",
   "execution_count": 170,
   "metadata": {},
   "outputs": [],
   "source": [
    "# predicting against test(validation) set\n",
    "y_galaxy_pred = gnb_galaxy.predict(x_test_galaxy)"
   ]
  },
  {
   "cell_type": "code",
   "execution_count": 171,
   "metadata": {},
   "outputs": [
    {
     "name": "stdout",
     "output_type": "stream",
     "text": [
      "Accuracy:0.13\n",
      "Kappa:0.08\n"
     ]
    }
   ],
   "source": [
    "# Accuracy\n",
    "accuracy = accuracy_score(y_test_galaxy, y_galaxy_pred)\n",
    "print('Accuracy:{:.2f}'.format(accuracy))\n",
    "\n",
    "# Kappa \n",
    "from sklearn.metrics import accuracy_score, cohen_kappa_score\n",
    "kappa = cohen_kappa_score(y_test_galaxy, y_galaxy_pred)\n",
    "print('Kappa:{:.2f}'.format(kappa))"
   ]
  },
  {
   "cell_type": "code",
   "execution_count": 74,
   "metadata": {},
   "outputs": [
    {
     "name": "stdout",
     "output_type": "stream",
     "text": [
      "[[ 117    5    1    0    2    0]\n",
      " [ 280  142    1    7   11    5]\n",
      " [ 121    1   15    0    1    1]\n",
      " [ 218    3   32   66    3    4]\n",
      " [ 244   11    1   70  134   36]\n",
      " [2213   76    4   21   14   14]]\n"
     ]
    }
   ],
   "source": [
    "# Confusion Matrix: Galaxy\n",
    "cm = confusion_matrix(y_test_galaxy, y_galaxy_pred)\n",
    "print(cm)"
   ]
  },
  {
   "cell_type": "code",
   "execution_count": 75,
   "metadata": {},
   "outputs": [
    {
     "data": {
      "text/plain": [
       "<matplotlib.axes._subplots.AxesSubplot at 0x127bbfcc0>"
      ]
     },
     "execution_count": 75,
     "metadata": {},
     "output_type": "execute_result"
    },
    {
     "data": {
      "image/png": "[encoded data removed]",
      "text/plain": [
       "<Figure size 432x288 with 2 Axes>"
      ]
     },
     "metadata": {},
     "output_type": "display_data"
    }
   ],
   "source": [
    "sn.set(font_scale=1.4) #for label size\n",
    "sn.heatmap(cm, annot=True,annot_kws={\"size\": 16}) # font size"
   ]
  },
  {
   "cell_type": "markdown",
   "metadata": {},
   "source": [
    "### KNN Classification: iPhone"
   ]
  },
  {
   "cell_type": "code",
   "execution_count": 76,
   "metadata": {},
   "outputs": [],
   "source": [
    "from sklearn.neighbors import KNeighborsClassifier"
   ]
  },
  {
   "cell_type": "code",
   "execution_count": 172,
   "metadata": {},
   "outputs": [],
   "source": [
    "neigh_iphone = KNeighborsClassifier(n_neighbors=3) # Initialise Model"
   ]
  },
  {
   "cell_type": "code",
   "execution_count": 173,
   "metadata": {},
   "outputs": [
    {
     "data": {
      "text/plain": [
       "KNeighborsClassifier(algorithm='auto', leaf_size=30, metric='minkowski',\n",
       "           metric_params=None, n_jobs=None, n_neighbors=3, p=2,\n",
       "           weights='uniform')"
      ]
     },
     "execution_count": 173,
     "metadata": {},
     "output_type": "execute_result"
    }
   ],
   "source": [
    "neigh_iphone.fit(x_train_iphone.values, y_train_iphone.values) # Fit Model"
   ]
  },
  {
   "cell_type": "code",
   "execution_count": 175,
   "metadata": {},
   "outputs": [],
   "source": [
    "# predicting against test(validation) set\n",
    "y_iphone_pred = neigh_iphone.predict(x_test_iphone)"
   ]
  },
  {
   "cell_type": "code",
   "execution_count": 176,
   "metadata": {},
   "outputs": [
    {
     "name": "stdout",
     "output_type": "stream",
     "text": [
      "Accuracy:0.73\n",
      "Kappa:0.50\n"
     ]
    }
   ],
   "source": [
    "# Accuracy\n",
    "accuracy = accuracy_score(y_test_iphone, y_iphone_pred)\n",
    "print('Accuracy:{:.2f}'.format(accuracy))\n",
    "\n",
    "# Kappa \n",
    "from sklearn.metrics import accuracy_score, cohen_kappa_score\n",
    "kappa = cohen_kappa_score(y_test_iphone, y_iphone_pred)\n",
    "print('Kappa:{:.2f}'.format(kappa))"
   ]
  },
  {
   "cell_type": "code",
   "execution_count": 81,
   "metadata": {},
   "outputs": [
    {
     "name": "stdout",
     "output_type": "stream",
     "text": [
      "[[   1    5    0    0    0  123]\n",
      " [   8  146    2    5    8  262]\n",
      " [   5    3   23    1    0   99]\n",
      " [   2    9    0  222    3  102]\n",
      " [   3   12    1    7  367  191]\n",
      " [  40   93   16   44   13 2076]]\n"
     ]
    }
   ],
   "source": [
    "# Confusion Matrix: Galaxy\n",
    "cm = confusion_matrix(y_test_iphone, y_iphone_pred)\n",
    "print(cm)"
   ]
  },
  {
   "cell_type": "code",
   "execution_count": 82,
   "metadata": {},
   "outputs": [
    {
     "data": {
      "text/plain": [
       "<matplotlib.axes._subplots.AxesSubplot at 0x127a74320>"
      ]
     },
     "execution_count": 82,
     "metadata": {},
     "output_type": "execute_result"
    },
    {
     "data": {
      "image/png": "[encoded data removed]",
      "text/plain": [
       "<Figure size 432x288 with 2 Axes>"
      ]
     },
     "metadata": {},
     "output_type": "display_data"
    }
   ],
   "source": [
    "sn.set(font_scale=1.4) #for label size\n",
    "sn.heatmap(cm, annot=True,annot_kws={\"size\": 16}) # font size"
   ]
  },
  {
   "cell_type": "markdown",
   "metadata": {},
   "source": [
    "### KNN Classification: Galaxy"
   ]
  },
  {
   "cell_type": "code",
   "execution_count": 177,
   "metadata": {},
   "outputs": [],
   "source": [
    "neigh_galaxy = KNeighborsClassifier(n_neighbors=3) # Initialise Model"
   ]
  },
  {
   "cell_type": "code",
   "execution_count": 178,
   "metadata": {},
   "outputs": [
    {
     "data": {
      "text/plain": [
       "KNeighborsClassifier(algorithm='auto', leaf_size=30, metric='minkowski',\n",
       "           metric_params=None, n_jobs=None, n_neighbors=3, p=2,\n",
       "           weights='uniform')"
      ]
     },
     "execution_count": 178,
     "metadata": {},
     "output_type": "execute_result"
    }
   ],
   "source": [
    "neigh_galaxy.fit(x_train_galaxy.values, y_train_galaxy.values) # Fit Model"
   ]
  },
  {
   "cell_type": "code",
   "execution_count": 179,
   "metadata": {},
   "outputs": [],
   "source": [
    "# predicting against test(validation) set\n",
    "y_galaxy_pred = neigh_galaxy.predict(x_test_galaxy)"
   ]
  },
  {
   "cell_type": "code",
   "execution_count": 180,
   "metadata": {},
   "outputs": [
    {
     "name": "stdout",
     "output_type": "stream",
     "text": [
      "Accuracy:0.73\n",
      "Kappa:0.49\n"
     ]
    }
   ],
   "source": [
    "# Accuracy\n",
    "accuracy = accuracy_score(y_test_galaxy, y_galaxy_pred)\n",
    "print('Accuracy:{:.2f}'.format(accuracy))\n",
    "\n",
    "# Kappa \n",
    "from sklearn.metrics import accuracy_score, cohen_kappa_score\n",
    "kappa = cohen_kappa_score(y_test_galaxy, y_galaxy_pred)\n",
    "print('Kappa:{:.2f}'.format(kappa))"
   ]
  },
  {
   "cell_type": "code",
   "execution_count": 86,
   "metadata": {},
   "outputs": [
    {
     "name": "stdout",
     "output_type": "stream",
     "text": [
      "[[   2    6    1    1    2  113]\n",
      " [   1  152    6    9   12  266]\n",
      " [   1    6   18    2    2  110]\n",
      " [   4    5    2  200    3  112]\n",
      " [   1   12    4    3  337  139]\n",
      " [  20  107   31   37   27 2120]]\n"
     ]
    }
   ],
   "source": [
    "# Confusion Matrix: Galaxy\n",
    "cm = confusion_matrix(y_test_galaxy, y_galaxy_pred)\n",
    "print(cm)"
   ]
  },
  {
   "cell_type": "code",
   "execution_count": 87,
   "metadata": {},
   "outputs": [
    {
     "data": {
      "text/plain": [
       "<matplotlib.axes._subplots.AxesSubplot at 0x128611f28>"
      ]
     },
     "execution_count": 87,
     "metadata": {},
     "output_type": "execute_result"
    },
    {
     "data": {
      "image/png": "[encoded data removed]",
      "text/plain": [
       "<Figure size 432x288 with 2 Axes>"
      ]
     },
     "metadata": {},
     "output_type": "display_data"
    }
   ],
   "source": [
    "sn.set(font_scale=1.4) #for label size\n",
    "sn.heatmap(cm, annot=True,annot_kws={\"size\": 16}) # font size"
   ]
  },
  {
   "cell_type": "markdown",
   "metadata": {},
   "source": [
    "### Random Forest Classification: iPhone"
   ]
  },
  {
   "cell_type": "code",
   "execution_count": 88,
   "metadata": {},
   "outputs": [],
   "source": [
    "from sklearn.ensemble import RandomForestClassifier"
   ]
  },
  {
   "cell_type": "code",
   "execution_count": 181,
   "metadata": {},
   "outputs": [],
   "source": [
    "# Initialise the model: to add parameters, i.e. no of estimator\n",
    "RANDOM_STATE = np.random.RandomState(0)\n",
    "rf_iphone = RandomForestClassifier(n_estimators=100, random_state=RANDOM_STATE) "
   ]
  },
  {
   "cell_type": "code",
   "execution_count": 182,
   "metadata": {},
   "outputs": [
    {
     "data": {
      "text/plain": [
       "RandomForestClassifier(bootstrap=True, class_weight=None, criterion='gini',\n",
       "            max_depth=None, max_features='auto', max_leaf_nodes=None,\n",
       "            min_impurity_decrease=0.0, min_impurity_split=None,\n",
       "            min_samples_leaf=1, min_samples_split=2,\n",
       "            min_weight_fraction_leaf=0.0, n_estimators=100, n_jobs=None,\n",
       "            oob_score=False,\n",
       "            random_state=<mtrand.RandomState object at 0x1295e8dc8>,\n",
       "            verbose=0, warm_start=False)"
      ]
     },
     "execution_count": 182,
     "metadata": {},
     "output_type": "execute_result"
    }
   ],
   "source": [
    "rf_iphone.fit(x_train_iphone.values, y_train_iphone.values) # Fit Model"
   ]
  },
  {
   "cell_type": "code",
   "execution_count": 183,
   "metadata": {},
   "outputs": [],
   "source": [
    "# predicting against test(validation) set\n",
    "y_iphone_pred = rf_iphone.predict(x_test_iphone)"
   ]
  },
  {
   "cell_type": "code",
   "execution_count": 184,
   "metadata": {},
   "outputs": [
    {
     "name": "stdout",
     "output_type": "stream",
     "text": [
      "Accuracy:0.77\n",
      "Kappa:0.55\n"
     ]
    }
   ],
   "source": [
    "# Accuracy\n",
    "accuracy = accuracy_score(y_test_iphone, y_iphone_pred)\n",
    "print('Accuracy:{:.2f}'.format(accuracy))\n",
    "\n",
    "# Kappa \n",
    "from sklearn.metrics import accuracy_score, cohen_kappa_score\n",
    "kappa = cohen_kappa_score(y_test_iphone, y_iphone_pred)\n",
    "print('Kappa:{:.2f}'.format(kappa))"
   ]
  },
  {
   "cell_type": "code",
   "execution_count": 93,
   "metadata": {},
   "outputs": [
    {
     "name": "stdout",
     "output_type": "stream",
     "text": [
      "[[   1    0    0    0    2  126]\n",
      " [   1  145    0    1    5  279]\n",
      " [   1    1   21    2    0  106]\n",
      " [   0    1    0  224    3  110]\n",
      " [   0    4    1    2  373  201]\n",
      " [   5   16    8   13   19 2221]]\n"
     ]
    }
   ],
   "source": [
    "# Confusion Matrix: Galaxy\n",
    "cm = confusion_matrix(y_test_iphone, y_iphone_pred)\n",
    "print(cm)"
   ]
  },
  {
   "cell_type": "code",
   "execution_count": 94,
   "metadata": {},
   "outputs": [
    {
     "data": {
      "text/plain": [
       "<matplotlib.axes._subplots.AxesSubplot at 0x11a916208>"
      ]
     },
     "execution_count": 94,
     "metadata": {},
     "output_type": "execute_result"
    },
    {
     "data": {
      "image/png": "[encoded data removed]",
      "text/plain": [
       "<Figure size 432x288 with 2 Axes>"
      ]
     },
     "metadata": {},
     "output_type": "display_data"
    }
   ],
   "source": [
    "sn.set(font_scale=1.4) #for label size\n",
    "sn.heatmap(cm, annot=True,annot_kws={\"size\": 16}) # font size"
   ]
  },
  {
   "cell_type": "markdown",
   "metadata": {},
   "source": [
    "### Random Forest Classification: Galaxy"
   ]
  },
  {
   "cell_type": "code",
   "execution_count": 185,
   "metadata": {},
   "outputs": [],
   "source": [
    "# Initialise the model: to add parameters, i.e. no of estimator\n",
    "RANDOM_STATE = np.random.RandomState(0)\n",
    "rf_galaxy = RandomForestClassifier(n_estimators=100, random_state=RANDOM_STATE) "
   ]
  },
  {
   "cell_type": "code",
   "execution_count": 186,
   "metadata": {},
   "outputs": [
    {
     "data": {
      "text/plain": [
       "RandomForestClassifier(bootstrap=True, class_weight=None, criterion='gini',\n",
       "            max_depth=None, max_features='auto', max_leaf_nodes=None,\n",
       "            min_impurity_decrease=0.0, min_impurity_split=None,\n",
       "            min_samples_leaf=1, min_samples_split=2,\n",
       "            min_weight_fraction_leaf=0.0, n_estimators=100, n_jobs=None,\n",
       "            oob_score=False,\n",
       "            random_state=<mtrand.RandomState object at 0x128c98438>,\n",
       "            verbose=0, warm_start=False)"
      ]
     },
     "execution_count": 186,
     "metadata": {},
     "output_type": "execute_result"
    }
   ],
   "source": [
    "rf_galaxy.fit(x_train_galaxy.values, y_train_galaxy.values) # Fit Model"
   ]
  },
  {
   "cell_type": "code",
   "execution_count": 187,
   "metadata": {},
   "outputs": [],
   "source": [
    "# predicting against test(validation) set\n",
    "y_galaxy_pred = rf_galaxy.predict(x_test_galaxy)"
   ]
  },
  {
   "cell_type": "code",
   "execution_count": 188,
   "metadata": {},
   "outputs": [
    {
     "name": "stdout",
     "output_type": "stream",
     "text": [
      "Accuracy:0.76\n",
      "Kappa:0.52\n"
     ]
    }
   ],
   "source": [
    "# Accuracy\n",
    "accuracy = accuracy_score(y_test_galaxy, y_galaxy_pred)\n",
    "print('Accuracy:{:.2f}'.format(accuracy))\n",
    "\n",
    "# Kappa \n",
    "from sklearn.metrics import accuracy_score, cohen_kappa_score\n",
    "kappa = cohen_kappa_score(y_test_galaxy, y_galaxy_pred)\n",
    "print('Kappa:{:.2f}'.format(kappa))"
   ]
  },
  {
   "cell_type": "code",
   "execution_count": 98,
   "metadata": {},
   "outputs": [
    {
     "name": "stdout",
     "output_type": "stream",
     "text": [
      "[[   1    0    1    2    1  120]\n",
      " [   0  140    1    6   10  289]\n",
      " [   1    0   15    0    3  120]\n",
      " [   2    1    0  202    3  118]\n",
      " [   0    5    1    2  342  146]\n",
      " [  10   36    7   27   24 2238]]\n"
     ]
    }
   ],
   "source": [
    "# Confusion Matrix: Galaxy\n",
    "cm = confusion_matrix(y_test_galaxy, y_galaxy_pred)\n",
    "print(cm)"
   ]
  },
  {
   "cell_type": "code",
   "execution_count": 99,
   "metadata": {},
   "outputs": [
    {
     "data": {
      "text/plain": [
       "<matplotlib.axes._subplots.AxesSubplot at 0x1288fb3c8>"
      ]
     },
     "execution_count": 99,
     "metadata": {},
     "output_type": "execute_result"
    },
    {
     "data": {
      "image/png": "[encoded data removed]",
      "text/plain": [
       "<Figure size 432x288 with 2 Axes>"
      ]
     },
     "metadata": {},
     "output_type": "display_data"
    }
   ],
   "source": [
    "sn.set(font_scale=1.4) #for label size\n",
    "sn.heatmap(cm, annot=True,annot_kws={\"size\": 16}) # font size"
   ]
  },
  {
   "cell_type": "markdown",
   "metadata": {},
   "source": [
    "### SVM Classification: iPhone"
   ]
  },
  {
   "cell_type": "code",
   "execution_count": 100,
   "metadata": {},
   "outputs": [],
   "source": [
    "from sklearn.svm import SVC"
   ]
  },
  {
   "cell_type": "code",
   "execution_count": 189,
   "metadata": {},
   "outputs": [],
   "source": [
    "# Initialise Model\n",
    "clf_iphone = SVC(gamma='auto')"
   ]
  },
  {
   "cell_type": "code",
   "execution_count": 190,
   "metadata": {},
   "outputs": [
    {
     "data": {
      "text/plain": [
       "SVC(C=1.0, cache_size=200, class_weight=None, coef0=0.0,\n",
       "  decision_function_shape='ovr', degree=3, gamma='auto', kernel='rbf',\n",
       "  max_iter=-1, probability=False, random_state=None, shrinking=True,\n",
       "  tol=0.001, verbose=False)"
      ]
     },
     "execution_count": 190,
     "metadata": {},
     "output_type": "execute_result"
    }
   ],
   "source": [
    "clf_iphone.fit(x_train_iphone, y_train_iphone) # Fit Model"
   ]
  },
  {
   "cell_type": "code",
   "execution_count": 191,
   "metadata": {},
   "outputs": [],
   "source": [
    "# predicting against test(validation) set\n",
    "y_iphone_pred = clf_iphone.predict(x_test_iphone)"
   ]
  },
  {
   "cell_type": "code",
   "execution_count": 192,
   "metadata": {},
   "outputs": [
    {
     "name": "stdout",
     "output_type": "stream",
     "text": [
      "Accuracy:0.76\n",
      "Kappa:0.52\n"
     ]
    }
   ],
   "source": [
    "# Accuracy\n",
    "accuracy = accuracy_score(y_test_iphone, y_iphone_pred)\n",
    "print('Accuracy:{:.2f}'.format(accuracy))\n",
    "\n",
    "# Kappa \n",
    "from sklearn.metrics import accuracy_score, cohen_kappa_score\n",
    "kappa = cohen_kappa_score(y_test_iphone, y_iphone_pred)\n",
    "print('Kappa:{:.2f}'.format(kappa))"
   ]
  },
  {
   "cell_type": "code",
   "execution_count": 105,
   "metadata": {},
   "outputs": [
    {
     "name": "stdout",
     "output_type": "stream",
     "text": [
      "[[   0    0    0    0    0  129]\n",
      " [   0  115    0    1    6  309]\n",
      " [   0    0   18    3    0  110]\n",
      " [   0    1    0  216    2  119]\n",
      " [   0    5    0    5  360  211]\n",
      " [   0    5    0   23    9 2245]]\n"
     ]
    }
   ],
   "source": [
    "# Confusion Matrix: iPhone\n",
    "from sklearn.metrics import confusion_matrix\n",
    "\n",
    "cm = confusion_matrix(y_test_iphone, y_iphone_pred)\n",
    "print(cm)"
   ]
  },
  {
   "cell_type": "code",
   "execution_count": 106,
   "metadata": {},
   "outputs": [],
   "source": [
    "import seaborn as sn"
   ]
  },
  {
   "cell_type": "code",
   "execution_count": 107,
   "metadata": {},
   "outputs": [
    {
     "data": {
      "text/plain": [
       "<matplotlib.axes._subplots.AxesSubplot at 0x128c19a90>"
      ]
     },
     "execution_count": 107,
     "metadata": {},
     "output_type": "execute_result"
    },
    {
     "data": {
      "image/png": "[encoded data removed]",
      "text/plain": [
       "<Figure size 432x288 with 2 Axes>"
      ]
     },
     "metadata": {},
     "output_type": "display_data"
    }
   ],
   "source": [
    "sn.set(font_scale=1.4) #for label size\n",
    "sn.heatmap(cm, annot=True,annot_kws={\"size\": 16}) # font size"
   ]
  },
  {
   "cell_type": "markdown",
   "metadata": {},
   "source": [
    "### SVM Classification: Galaxy"
   ]
  },
  {
   "cell_type": "code",
   "execution_count": 193,
   "metadata": {},
   "outputs": [],
   "source": [
    "# Initialise Model\n",
    "clf_galaxy = SVC(gamma='auto')"
   ]
  },
  {
   "cell_type": "code",
   "execution_count": 194,
   "metadata": {},
   "outputs": [
    {
     "data": {
      "text/plain": [
       "SVC(C=1.0, cache_size=200, class_weight=None, coef0=0.0,\n",
       "  decision_function_shape='ovr', degree=3, gamma='auto', kernel='rbf',\n",
       "  max_iter=-1, probability=False, random_state=None, shrinking=True,\n",
       "  tol=0.001, verbose=False)"
      ]
     },
     "execution_count": 194,
     "metadata": {},
     "output_type": "execute_result"
    }
   ],
   "source": [
    "clf_galaxy.fit(x_train_galaxy, y_train_galaxy) # Fit Model"
   ]
  },
  {
   "cell_type": "code",
   "execution_count": 195,
   "metadata": {},
   "outputs": [],
   "source": [
    "# predicting against test(validation) set\n",
    "y_galaxy_pred = clf_galaxy.predict(x_test_galaxy)"
   ]
  },
  {
   "cell_type": "code",
   "execution_count": 196,
   "metadata": {},
   "outputs": [
    {
     "name": "stdout",
     "output_type": "stream",
     "text": [
      "Accuracy:0.76\n",
      "Kappa:0.50\n"
     ]
    }
   ],
   "source": [
    "# Accuracy\n",
    "accuracy = accuracy_score(y_test_galaxy, y_galaxy_pred)\n",
    "print('Accuracy:{:.2f}'.format(accuracy))\n",
    "\n",
    "# Kappa \n",
    "from sklearn.metrics import accuracy_score, cohen_kappa_score\n",
    "kappa = cohen_kappa_score(y_test_galaxy, y_galaxy_pred)\n",
    "print('Kappa:{:.2f}'.format(kappa))"
   ]
  },
  {
   "cell_type": "code",
   "execution_count": 111,
   "metadata": {},
   "outputs": [
    {
     "name": "stdout",
     "output_type": "stream",
     "text": [
      "[[   0    0    0    0    1  124]\n",
      " [   0  125    1    3   10  307]\n",
      " [   0    1   15    1    0  122]\n",
      " [   0    1    0  190    2  133]\n",
      " [   0    3    1    1  332  159]\n",
      " [   0   11    0   39   26 2266]]\n"
     ]
    }
   ],
   "source": [
    "# Confusion Matrix: Galaxy\n",
    "cm = confusion_matrix(y_test_galaxy, y_galaxy_pred)\n",
    "print(cm)"
   ]
  },
  {
   "cell_type": "code",
   "execution_count": 112,
   "metadata": {},
   "outputs": [],
   "source": [
    "import seaborn as sn"
   ]
  },
  {
   "cell_type": "code",
   "execution_count": 113,
   "metadata": {},
   "outputs": [
    {
     "data": {
      "text/plain": [
       "<matplotlib.axes._subplots.AxesSubplot at 0x128d71b38>"
      ]
     },
     "execution_count": 113,
     "metadata": {},
     "output_type": "execute_result"
    },
    {
     "data": {
      "image/png": "[encoded data removed]",
      "text/plain": [
       "<Figure size 432x288 with 2 Axes>"
      ]
     },
     "metadata": {},
     "output_type": "display_data"
    }
   ],
   "source": [
    "sn.set(font_scale=1.4) #for label size\n",
    "sn.heatmap(cm, annot=True,annot_kws={\"size\": 16}) # font size"
   ]
  },
  {
   "cell_type": "markdown",
   "metadata": {},
   "source": [
    "## Import LargeMatrix"
   ]
  },
  {
   "cell_type": "code",
   "execution_count": 114,
   "metadata": {},
   "outputs": [],
   "source": [
    "iPhone_large_df = pd.read_csv(\"iPhoneLargeMatrix.csv\")\n",
    "\n",
    "Galaxy_large_df = pd.read_csv('GalaxyLargeMatrix.csv')"
   ]
  },
  {
   "cell_type": "code",
   "execution_count": 116,
   "metadata": {},
   "outputs": [
    {
     "name": "stdout",
     "output_type": "stream",
     "text": [
      "(6986, 60)\n",
      "(6986, 60)\n"
     ]
    }
   ],
   "source": [
    "print(iPhone_large_df.shape)\n",
    "\n",
    "print(Galaxy_large_df.shape)"
   ]
  },
  {
   "cell_type": "code",
   "execution_count": 117,
   "metadata": {},
   "outputs": [
    {
     "data": {
      "text/html": [
       "<div>\n",
       "<style scoped>\n",
       "    .dataframe tbody tr th:only-of-type {\n",
       "        vertical-align: middle;\n",
       "    }\n",
       "\n",
       "    .dataframe tbody tr th {\n",
       "        vertical-align: top;\n",
       "    }\n",
       "\n",
       "    .dataframe thead th {\n",
       "        text-align: right;\n",
       "    }\n",
       "</style>\n",
       "<table border=\"1\" class=\"dataframe\">\n",
       "  <thead>\n",
       "    <tr style=\"text-align: right;\">\n",
       "      <th></th>\n",
       "      <th>id</th>\n",
       "      <th>iphone</th>\n",
       "      <th>samsunggalaxy</th>\n",
       "      <th>sonyxperia</th>\n",
       "      <th>nokialumina</th>\n",
       "      <th>htcphone</th>\n",
       "      <th>ios</th>\n",
       "      <th>googleandroid</th>\n",
       "      <th>iphonecampos</th>\n",
       "      <th>samsungcampos</th>\n",
       "      <th>...</th>\n",
       "      <th>sonyperunc</th>\n",
       "      <th>nokiaperunc</th>\n",
       "      <th>htcperunc</th>\n",
       "      <th>iosperpos</th>\n",
       "      <th>googleperpos</th>\n",
       "      <th>iosperneg</th>\n",
       "      <th>googleperneg</th>\n",
       "      <th>iosperunc</th>\n",
       "      <th>googleperunc</th>\n",
       "      <th>iphoneSentiment</th>\n",
       "    </tr>\n",
       "  </thead>\n",
       "  <tbody>\n",
       "    <tr>\n",
       "      <th>count</th>\n",
       "      <td>6986.000000</td>\n",
       "      <td>6986.000000</td>\n",
       "      <td>6986.000000</td>\n",
       "      <td>6986.000000</td>\n",
       "      <td>6986.000000</td>\n",
       "      <td>6986.000000</td>\n",
       "      <td>6986.000000</td>\n",
       "      <td>6986.000000</td>\n",
       "      <td>6986.000000</td>\n",
       "      <td>6986.000000</td>\n",
       "      <td>...</td>\n",
       "      <td>6986.000000</td>\n",
       "      <td>6986.000000</td>\n",
       "      <td>6986.000000</td>\n",
       "      <td>6986.000000</td>\n",
       "      <td>6986.000000</td>\n",
       "      <td>6986.000000</td>\n",
       "      <td>6986.000000</td>\n",
       "      <td>6986.00000</td>\n",
       "      <td>6986.000000</td>\n",
       "      <td>6986.000000</td>\n",
       "    </tr>\n",
       "    <tr>\n",
       "      <th>mean</th>\n",
       "      <td>3492.500000</td>\n",
       "      <td>0.859290</td>\n",
       "      <td>0.080447</td>\n",
       "      <td>0.016461</td>\n",
       "      <td>0.002433</td>\n",
       "      <td>0.041798</td>\n",
       "      <td>0.549098</td>\n",
       "      <td>0.079445</td>\n",
       "      <td>0.137561</td>\n",
       "      <td>0.026768</td>\n",
       "      <td>...</td>\n",
       "      <td>0.016605</td>\n",
       "      <td>0.031635</td>\n",
       "      <td>0.022330</td>\n",
       "      <td>0.386630</td>\n",
       "      <td>0.124248</td>\n",
       "      <td>0.356857</td>\n",
       "      <td>0.162182</td>\n",
       "      <td>0.34655</td>\n",
       "      <td>0.106069</td>\n",
       "      <td>3.580447</td>\n",
       "    </tr>\n",
       "    <tr>\n",
       "      <th>std</th>\n",
       "      <td>2016.828823</td>\n",
       "      <td>1.191997</td>\n",
       "      <td>0.481406</td>\n",
       "      <td>0.229252</td>\n",
       "      <td>0.054777</td>\n",
       "      <td>0.228842</td>\n",
       "      <td>1.057249</td>\n",
       "      <td>0.523042</td>\n",
       "      <td>1.046028</td>\n",
       "      <td>0.422013</td>\n",
       "      <td>...</td>\n",
       "      <td>0.885424</td>\n",
       "      <td>0.975286</td>\n",
       "      <td>0.364596</td>\n",
       "      <td>2.885967</td>\n",
       "      <td>1.514433</td>\n",
       "      <td>2.815830</td>\n",
       "      <td>1.841666</td>\n",
       "      <td>3.50988</td>\n",
       "      <td>1.426731</td>\n",
       "      <td>25.301575</td>\n",
       "    </tr>\n",
       "    <tr>\n",
       "      <th>min</th>\n",
       "      <td>0.000000</td>\n",
       "      <td>0.000000</td>\n",
       "      <td>0.000000</td>\n",
       "      <td>0.000000</td>\n",
       "      <td>0.000000</td>\n",
       "      <td>0.000000</td>\n",
       "      <td>0.000000</td>\n",
       "      <td>0.000000</td>\n",
       "      <td>0.000000</td>\n",
       "      <td>0.000000</td>\n",
       "      <td>...</td>\n",
       "      <td>0.000000</td>\n",
       "      <td>0.000000</td>\n",
       "      <td>0.000000</td>\n",
       "      <td>0.000000</td>\n",
       "      <td>0.000000</td>\n",
       "      <td>0.000000</td>\n",
       "      <td>0.000000</td>\n",
       "      <td>0.00000</td>\n",
       "      <td>0.000000</td>\n",
       "      <td>-175.000000</td>\n",
       "    </tr>\n",
       "    <tr>\n",
       "      <th>25%</th>\n",
       "      <td>1746.250000</td>\n",
       "      <td>0.000000</td>\n",
       "      <td>0.000000</td>\n",
       "      <td>0.000000</td>\n",
       "      <td>0.000000</td>\n",
       "      <td>0.000000</td>\n",
       "      <td>0.000000</td>\n",
       "      <td>0.000000</td>\n",
       "      <td>0.000000</td>\n",
       "      <td>0.000000</td>\n",
       "      <td>...</td>\n",
       "      <td>0.000000</td>\n",
       "      <td>0.000000</td>\n",
       "      <td>0.000000</td>\n",
       "      <td>0.000000</td>\n",
       "      <td>0.000000</td>\n",
       "      <td>0.000000</td>\n",
       "      <td>0.000000</td>\n",
       "      <td>0.00000</td>\n",
       "      <td>0.000000</td>\n",
       "      <td>0.000000</td>\n",
       "    </tr>\n",
       "    <tr>\n",
       "      <th>50%</th>\n",
       "      <td>3492.500000</td>\n",
       "      <td>1.000000</td>\n",
       "      <td>0.000000</td>\n",
       "      <td>0.000000</td>\n",
       "      <td>0.000000</td>\n",
       "      <td>0.000000</td>\n",
       "      <td>0.000000</td>\n",
       "      <td>0.000000</td>\n",
       "      <td>0.000000</td>\n",
       "      <td>0.000000</td>\n",
       "      <td>...</td>\n",
       "      <td>0.000000</td>\n",
       "      <td>0.000000</td>\n",
       "      <td>0.000000</td>\n",
       "      <td>0.000000</td>\n",
       "      <td>0.000000</td>\n",
       "      <td>0.000000</td>\n",
       "      <td>0.000000</td>\n",
       "      <td>0.00000</td>\n",
       "      <td>0.000000</td>\n",
       "      <td>0.000000</td>\n",
       "    </tr>\n",
       "    <tr>\n",
       "      <th>75%</th>\n",
       "      <td>5238.750000</td>\n",
       "      <td>1.000000</td>\n",
       "      <td>0.000000</td>\n",
       "      <td>0.000000</td>\n",
       "      <td>0.000000</td>\n",
       "      <td>0.000000</td>\n",
       "      <td>1.000000</td>\n",
       "      <td>0.000000</td>\n",
       "      <td>0.000000</td>\n",
       "      <td>0.000000</td>\n",
       "      <td>...</td>\n",
       "      <td>0.000000</td>\n",
       "      <td>0.000000</td>\n",
       "      <td>0.000000</td>\n",
       "      <td>0.000000</td>\n",
       "      <td>0.000000</td>\n",
       "      <td>0.000000</td>\n",
       "      <td>0.000000</td>\n",
       "      <td>0.00000</td>\n",
       "      <td>0.000000</td>\n",
       "      <td>0.000000</td>\n",
       "    </tr>\n",
       "    <tr>\n",
       "      <th>max</th>\n",
       "      <td>6985.000000</td>\n",
       "      <td>15.000000</td>\n",
       "      <td>14.000000</td>\n",
       "      <td>11.000000</td>\n",
       "      <td>2.000000</td>\n",
       "      <td>5.000000</td>\n",
       "      <td>32.000000</td>\n",
       "      <td>26.000000</td>\n",
       "      <td>38.000000</td>\n",
       "      <td>20.000000</td>\n",
       "      <td>...</td>\n",
       "      <td>60.000000</td>\n",
       "      <td>60.000000</td>\n",
       "      <td>9.000000</td>\n",
       "      <td>65.000000</td>\n",
       "      <td>60.000000</td>\n",
       "      <td>47.000000</td>\n",
       "      <td>47.000000</td>\n",
       "      <td>189.00000</td>\n",
       "      <td>57.000000</td>\n",
       "      <td>630.000000</td>\n",
       "    </tr>\n",
       "  </tbody>\n",
       "</table>\n",
       "<p>8 rows × 60 columns</p>\n",
       "</div>"
      ],
      "text/plain": [
       "                id       iphone  samsunggalaxy   sonyxperia  nokialumina  \\\n",
       "count  6986.000000  6986.000000    6986.000000  6986.000000  6986.000000   \n",
       "mean   3492.500000     0.859290       0.080447     0.016461     0.002433   \n",
       "std    2016.828823     1.191997       0.481406     0.229252     0.054777   \n",
       "min       0.000000     0.000000       0.000000     0.000000     0.000000   \n",
       "25%    1746.250000     0.000000       0.000000     0.000000     0.000000   \n",
       "50%    3492.500000     1.000000       0.000000     0.000000     0.000000   \n",
       "75%    5238.750000     1.000000       0.000000     0.000000     0.000000   \n",
       "max    6985.000000    15.000000      14.000000    11.000000     2.000000   \n",
       "\n",
       "          htcphone          ios  googleandroid  iphonecampos  samsungcampos  \\\n",
       "count  6986.000000  6986.000000    6986.000000   6986.000000    6986.000000   \n",
       "mean      0.041798     0.549098       0.079445      0.137561       0.026768   \n",
       "std       0.228842     1.057249       0.523042      1.046028       0.422013   \n",
       "min       0.000000     0.000000       0.000000      0.000000       0.000000   \n",
       "25%       0.000000     0.000000       0.000000      0.000000       0.000000   \n",
       "50%       0.000000     0.000000       0.000000      0.000000       0.000000   \n",
       "75%       0.000000     1.000000       0.000000      0.000000       0.000000   \n",
       "max       5.000000    32.000000      26.000000     38.000000      20.000000   \n",
       "\n",
       "            ...          sonyperunc  nokiaperunc    htcperunc    iosperpos  \\\n",
       "count       ...         6986.000000  6986.000000  6986.000000  6986.000000   \n",
       "mean        ...            0.016605     0.031635     0.022330     0.386630   \n",
       "std         ...            0.885424     0.975286     0.364596     2.885967   \n",
       "min         ...            0.000000     0.000000     0.000000     0.000000   \n",
       "25%         ...            0.000000     0.000000     0.000000     0.000000   \n",
       "50%         ...            0.000000     0.000000     0.000000     0.000000   \n",
       "75%         ...            0.000000     0.000000     0.000000     0.000000   \n",
       "max         ...           60.000000    60.000000     9.000000    65.000000   \n",
       "\n",
       "       googleperpos    iosperneg  googleperneg   iosperunc  googleperunc  \\\n",
       "count   6986.000000  6986.000000   6986.000000  6986.00000   6986.000000   \n",
       "mean       0.124248     0.356857      0.162182     0.34655      0.106069   \n",
       "std        1.514433     2.815830      1.841666     3.50988      1.426731   \n",
       "min        0.000000     0.000000      0.000000     0.00000      0.000000   \n",
       "25%        0.000000     0.000000      0.000000     0.00000      0.000000   \n",
       "50%        0.000000     0.000000      0.000000     0.00000      0.000000   \n",
       "75%        0.000000     0.000000      0.000000     0.00000      0.000000   \n",
       "max       60.000000    47.000000     47.000000   189.00000     57.000000   \n",
       "\n",
       "       iphoneSentiment  \n",
       "count      6986.000000  \n",
       "mean          3.580447  \n",
       "std          25.301575  \n",
       "min        -175.000000  \n",
       "25%           0.000000  \n",
       "50%           0.000000  \n",
       "75%           0.000000  \n",
       "max         630.000000  \n",
       "\n",
       "[8 rows x 60 columns]"
      ]
     },
     "execution_count": 117,
     "metadata": {},
     "output_type": "execute_result"
    }
   ],
   "source": [
    "iPhone_large_df.describe()"
   ]
  },
  {
   "cell_type": "code",
   "execution_count": 118,
   "metadata": {},
   "outputs": [
    {
     "data": {
      "text/html": [
       "<div>\n",
       "<style scoped>\n",
       "    .dataframe tbody tr th:only-of-type {\n",
       "        vertical-align: middle;\n",
       "    }\n",
       "\n",
       "    .dataframe tbody tr th {\n",
       "        vertical-align: top;\n",
       "    }\n",
       "\n",
       "    .dataframe thead th {\n",
       "        text-align: right;\n",
       "    }\n",
       "</style>\n",
       "<table border=\"1\" class=\"dataframe\">\n",
       "  <thead>\n",
       "    <tr style=\"text-align: right;\">\n",
       "      <th></th>\n",
       "      <th>id</th>\n",
       "      <th>iphone</th>\n",
       "      <th>samsunggalaxy</th>\n",
       "      <th>sonyxperia</th>\n",
       "      <th>nokialumina</th>\n",
       "      <th>htcphone</th>\n",
       "      <th>ios</th>\n",
       "      <th>googleandroid</th>\n",
       "      <th>iphonecampos</th>\n",
       "      <th>samsungcampos</th>\n",
       "      <th>...</th>\n",
       "      <th>sonyperunc</th>\n",
       "      <th>nokiaperunc</th>\n",
       "      <th>htcperunc</th>\n",
       "      <th>iosperpos</th>\n",
       "      <th>googleperpos</th>\n",
       "      <th>iosperneg</th>\n",
       "      <th>googleperneg</th>\n",
       "      <th>iosperunc</th>\n",
       "      <th>googleperunc</th>\n",
       "      <th>galaxySentiment</th>\n",
       "    </tr>\n",
       "  </thead>\n",
       "  <tbody>\n",
       "    <tr>\n",
       "      <th>count</th>\n",
       "      <td>6986.000000</td>\n",
       "      <td>6986.000000</td>\n",
       "      <td>6986.000000</td>\n",
       "      <td>6986.000000</td>\n",
       "      <td>6986.000000</td>\n",
       "      <td>6986.000000</td>\n",
       "      <td>6986.000000</td>\n",
       "      <td>6986.000000</td>\n",
       "      <td>6986.000000</td>\n",
       "      <td>6986.000000</td>\n",
       "      <td>...</td>\n",
       "      <td>6986.000000</td>\n",
       "      <td>6986.000000</td>\n",
       "      <td>6986.000000</td>\n",
       "      <td>6986.000000</td>\n",
       "      <td>6986.000000</td>\n",
       "      <td>6986.000000</td>\n",
       "      <td>6986.000000</td>\n",
       "      <td>6986.00000</td>\n",
       "      <td>6986.000000</td>\n",
       "      <td>6986.000000</td>\n",
       "    </tr>\n",
       "    <tr>\n",
       "      <th>mean</th>\n",
       "      <td>3492.500000</td>\n",
       "      <td>0.859290</td>\n",
       "      <td>0.080447</td>\n",
       "      <td>0.016461</td>\n",
       "      <td>0.002433</td>\n",
       "      <td>0.041798</td>\n",
       "      <td>0.549098</td>\n",
       "      <td>0.079445</td>\n",
       "      <td>0.137561</td>\n",
       "      <td>0.026768</td>\n",
       "      <td>...</td>\n",
       "      <td>0.016605</td>\n",
       "      <td>0.031635</td>\n",
       "      <td>0.022330</td>\n",
       "      <td>0.386630</td>\n",
       "      <td>0.124248</td>\n",
       "      <td>0.356857</td>\n",
       "      <td>0.162182</td>\n",
       "      <td>0.34655</td>\n",
       "      <td>0.106069</td>\n",
       "      <td>0.317063</td>\n",
       "    </tr>\n",
       "    <tr>\n",
       "      <th>std</th>\n",
       "      <td>2016.828823</td>\n",
       "      <td>1.191997</td>\n",
       "      <td>0.481406</td>\n",
       "      <td>0.229252</td>\n",
       "      <td>0.054777</td>\n",
       "      <td>0.228842</td>\n",
       "      <td>1.057249</td>\n",
       "      <td>0.523042</td>\n",
       "      <td>1.046028</td>\n",
       "      <td>0.422013</td>\n",
       "      <td>...</td>\n",
       "      <td>0.885424</td>\n",
       "      <td>0.975286</td>\n",
       "      <td>0.364596</td>\n",
       "      <td>2.885967</td>\n",
       "      <td>1.514433</td>\n",
       "      <td>2.815830</td>\n",
       "      <td>1.841666</td>\n",
       "      <td>3.50988</td>\n",
       "      <td>1.426731</td>\n",
       "      <td>13.116256</td>\n",
       "    </tr>\n",
       "    <tr>\n",
       "      <th>min</th>\n",
       "      <td>0.000000</td>\n",
       "      <td>0.000000</td>\n",
       "      <td>0.000000</td>\n",
       "      <td>0.000000</td>\n",
       "      <td>0.000000</td>\n",
       "      <td>0.000000</td>\n",
       "      <td>0.000000</td>\n",
       "      <td>0.000000</td>\n",
       "      <td>0.000000</td>\n",
       "      <td>0.000000</td>\n",
       "      <td>...</td>\n",
       "      <td>0.000000</td>\n",
       "      <td>0.000000</td>\n",
       "      <td>0.000000</td>\n",
       "      <td>0.000000</td>\n",
       "      <td>0.000000</td>\n",
       "      <td>0.000000</td>\n",
       "      <td>0.000000</td>\n",
       "      <td>0.00000</td>\n",
       "      <td>0.000000</td>\n",
       "      <td>-157.000000</td>\n",
       "    </tr>\n",
       "    <tr>\n",
       "      <th>25%</th>\n",
       "      <td>1746.250000</td>\n",
       "      <td>0.000000</td>\n",
       "      <td>0.000000</td>\n",
       "      <td>0.000000</td>\n",
       "      <td>0.000000</td>\n",
       "      <td>0.000000</td>\n",
       "      <td>0.000000</td>\n",
       "      <td>0.000000</td>\n",
       "      <td>0.000000</td>\n",
       "      <td>0.000000</td>\n",
       "      <td>...</td>\n",
       "      <td>0.000000</td>\n",
       "      <td>0.000000</td>\n",
       "      <td>0.000000</td>\n",
       "      <td>0.000000</td>\n",
       "      <td>0.000000</td>\n",
       "      <td>0.000000</td>\n",
       "      <td>0.000000</td>\n",
       "      <td>0.00000</td>\n",
       "      <td>0.000000</td>\n",
       "      <td>0.000000</td>\n",
       "    </tr>\n",
       "    <tr>\n",
       "      <th>50%</th>\n",
       "      <td>3492.500000</td>\n",
       "      <td>1.000000</td>\n",
       "      <td>0.000000</td>\n",
       "      <td>0.000000</td>\n",
       "      <td>0.000000</td>\n",
       "      <td>0.000000</td>\n",
       "      <td>0.000000</td>\n",
       "      <td>0.000000</td>\n",
       "      <td>0.000000</td>\n",
       "      <td>0.000000</td>\n",
       "      <td>...</td>\n",
       "      <td>0.000000</td>\n",
       "      <td>0.000000</td>\n",
       "      <td>0.000000</td>\n",
       "      <td>0.000000</td>\n",
       "      <td>0.000000</td>\n",
       "      <td>0.000000</td>\n",
       "      <td>0.000000</td>\n",
       "      <td>0.00000</td>\n",
       "      <td>0.000000</td>\n",
       "      <td>0.000000</td>\n",
       "    </tr>\n",
       "    <tr>\n",
       "      <th>75%</th>\n",
       "      <td>5238.750000</td>\n",
       "      <td>1.000000</td>\n",
       "      <td>0.000000</td>\n",
       "      <td>0.000000</td>\n",
       "      <td>0.000000</td>\n",
       "      <td>0.000000</td>\n",
       "      <td>1.000000</td>\n",
       "      <td>0.000000</td>\n",
       "      <td>0.000000</td>\n",
       "      <td>0.000000</td>\n",
       "      <td>...</td>\n",
       "      <td>0.000000</td>\n",
       "      <td>0.000000</td>\n",
       "      <td>0.000000</td>\n",
       "      <td>0.000000</td>\n",
       "      <td>0.000000</td>\n",
       "      <td>0.000000</td>\n",
       "      <td>0.000000</td>\n",
       "      <td>0.00000</td>\n",
       "      <td>0.000000</td>\n",
       "      <td>0.000000</td>\n",
       "    </tr>\n",
       "    <tr>\n",
       "      <th>max</th>\n",
       "      <td>6985.000000</td>\n",
       "      <td>15.000000</td>\n",
       "      <td>14.000000</td>\n",
       "      <td>11.000000</td>\n",
       "      <td>2.000000</td>\n",
       "      <td>5.000000</td>\n",
       "      <td>32.000000</td>\n",
       "      <td>26.000000</td>\n",
       "      <td>38.000000</td>\n",
       "      <td>20.000000</td>\n",
       "      <td>...</td>\n",
       "      <td>60.000000</td>\n",
       "      <td>60.000000</td>\n",
       "      <td>9.000000</td>\n",
       "      <td>65.000000</td>\n",
       "      <td>60.000000</td>\n",
       "      <td>47.000000</td>\n",
       "      <td>47.000000</td>\n",
       "      <td>189.00000</td>\n",
       "      <td>57.000000</td>\n",
       "      <td>630.000000</td>\n",
       "    </tr>\n",
       "  </tbody>\n",
       "</table>\n",
       "<p>8 rows × 60 columns</p>\n",
       "</div>"
      ],
      "text/plain": [
       "                id       iphone  samsunggalaxy   sonyxperia  nokialumina  \\\n",
       "count  6986.000000  6986.000000    6986.000000  6986.000000  6986.000000   \n",
       "mean   3492.500000     0.859290       0.080447     0.016461     0.002433   \n",
       "std    2016.828823     1.191997       0.481406     0.229252     0.054777   \n",
       "min       0.000000     0.000000       0.000000     0.000000     0.000000   \n",
       "25%    1746.250000     0.000000       0.000000     0.000000     0.000000   \n",
       "50%    3492.500000     1.000000       0.000000     0.000000     0.000000   \n",
       "75%    5238.750000     1.000000       0.000000     0.000000     0.000000   \n",
       "max    6985.000000    15.000000      14.000000    11.000000     2.000000   \n",
       "\n",
       "          htcphone          ios  googleandroid  iphonecampos  samsungcampos  \\\n",
       "count  6986.000000  6986.000000    6986.000000   6986.000000    6986.000000   \n",
       "mean      0.041798     0.549098       0.079445      0.137561       0.026768   \n",
       "std       0.228842     1.057249       0.523042      1.046028       0.422013   \n",
       "min       0.000000     0.000000       0.000000      0.000000       0.000000   \n",
       "25%       0.000000     0.000000       0.000000      0.000000       0.000000   \n",
       "50%       0.000000     0.000000       0.000000      0.000000       0.000000   \n",
       "75%       0.000000     1.000000       0.000000      0.000000       0.000000   \n",
       "max       5.000000    32.000000      26.000000     38.000000      20.000000   \n",
       "\n",
       "            ...          sonyperunc  nokiaperunc    htcperunc    iosperpos  \\\n",
       "count       ...         6986.000000  6986.000000  6986.000000  6986.000000   \n",
       "mean        ...            0.016605     0.031635     0.022330     0.386630   \n",
       "std         ...            0.885424     0.975286     0.364596     2.885967   \n",
       "min         ...            0.000000     0.000000     0.000000     0.000000   \n",
       "25%         ...            0.000000     0.000000     0.000000     0.000000   \n",
       "50%         ...            0.000000     0.000000     0.000000     0.000000   \n",
       "75%         ...            0.000000     0.000000     0.000000     0.000000   \n",
       "max         ...           60.000000    60.000000     9.000000    65.000000   \n",
       "\n",
       "       googleperpos    iosperneg  googleperneg   iosperunc  googleperunc  \\\n",
       "count   6986.000000  6986.000000   6986.000000  6986.00000   6986.000000   \n",
       "mean       0.124248     0.356857      0.162182     0.34655      0.106069   \n",
       "std        1.514433     2.815830      1.841666     3.50988      1.426731   \n",
       "min        0.000000     0.000000      0.000000     0.00000      0.000000   \n",
       "25%        0.000000     0.000000      0.000000     0.00000      0.000000   \n",
       "50%        0.000000     0.000000      0.000000     0.00000      0.000000   \n",
       "75%        0.000000     0.000000      0.000000     0.00000      0.000000   \n",
       "max       60.000000    47.000000     47.000000   189.00000     57.000000   \n",
       "\n",
       "       galaxySentiment  \n",
       "count      6986.000000  \n",
       "mean          0.317063  \n",
       "std          13.116256  \n",
       "min        -157.000000  \n",
       "25%           0.000000  \n",
       "50%           0.000000  \n",
       "75%           0.000000  \n",
       "max         630.000000  \n",
       "\n",
       "[8 rows x 60 columns]"
      ]
     },
     "execution_count": 118,
     "metadata": {},
     "output_type": "execute_result"
    }
   ],
   "source": [
    "Galaxy_large_df.describe()"
   ]
  },
  {
   "cell_type": "markdown",
   "metadata": {},
   "source": [
    "### Applying Feature Selection"
   ]
  },
  {
   "cell_type": "code",
   "execution_count": 119,
   "metadata": {},
   "outputs": [],
   "source": [
    "iPhone_large_x =iPhone_large_df[iphone_names_feat]"
   ]
  },
  {
   "cell_type": "code",
   "execution_count": 121,
   "metadata": {},
   "outputs": [],
   "source": [
    "Galaxy_large_x =Galaxy_large_df[galaxy_names_feat]"
   ]
  },
  {
   "cell_type": "markdown",
   "metadata": {},
   "source": [
    "### Predict with Random Forest Classification"
   ]
  },
  {
   "cell_type": "code",
   "execution_count": 199,
   "metadata": {},
   "outputs": [],
   "source": [
    "# predicting against test(validation) set\n",
    "y_iphone_large_pred = rf_iphone.predict(iPhone_large_x)"
   ]
  },
  {
   "cell_type": "code",
   "execution_count": 200,
   "metadata": {},
   "outputs": [],
   "source": [
    "# Created a dataframe of the predictions\n",
    "y_iphone_large_pred_df = pd.DataFrame(y_iphone_large_pred)\n",
    "y_iphone_large_pred_df.columns = ['prediction']"
   ]
  },
  {
   "cell_type": "code",
   "execution_count": 201,
   "metadata": {},
   "outputs": [],
   "source": [
    "y_galaxy_large_pred = rf_galaxy.predict(Galaxy_large_x)"
   ]
  },
  {
   "cell_type": "code",
   "execution_count": 202,
   "metadata": {},
   "outputs": [],
   "source": [
    "# Created a dataframe of the predictions\n",
    "y_galaxy_large_pred_df = pd.DataFrame(y_galaxy_large_pred)\n",
    "y_galaxy_large_pred_df.columns = ['prediction']"
   ]
  },
  {
   "cell_type": "code",
   "execution_count": 203,
   "metadata": {},
   "outputs": [],
   "source": [
    "# Groupy by each prediction type, count the number of times it occurred\n",
    "y_iphone_large_pred_df_plot = y_iphone_large_pred_df.groupby('prediction').size()"
   ]
  },
  {
   "cell_type": "code",
   "execution_count": 204,
   "metadata": {},
   "outputs": [],
   "source": [
    "y_galaxy_large_pred_df_plot = y_galaxy_large_pred_df.groupby('prediction').size()"
   ]
  },
  {
   "cell_type": "code",
   "execution_count": 205,
   "metadata": {},
   "outputs": [
    {
     "data": {
      "text/plain": [
       "prediction\n",
       "negative                1\n",
       "positive              112\n",
       "somewhat negative     199\n",
       "somewhat positive     462\n",
       "very negative        2796\n",
       "very positive        3416\n",
       "dtype: int64"
      ]
     },
     "execution_count": 205,
     "metadata": {},
     "output_type": "execute_result"
    }
   ],
   "source": [
    "y_iphone_large_pred_df_plot"
   ]
  },
  {
   "cell_type": "code",
   "execution_count": 206,
   "metadata": {},
   "outputs": [
    {
     "data": {
      "text/plain": [
       "prediction\n",
       "negative                5\n",
       "positive              534\n",
       "somewhat negative     218\n",
       "somewhat positive     441\n",
       "very negative        2778\n",
       "very positive        3010\n",
       "dtype: int64"
      ]
     },
     "execution_count": 206,
     "metadata": {},
     "output_type": "execute_result"
    }
   ],
   "source": [
    "y_galaxy_large_pred_df_plot"
   ]
  },
  {
   "cell_type": "code",
   "execution_count": 207,
   "metadata": {},
   "outputs": [
    {
     "data": {
      "text/plain": [
       "<matplotlib.axes._subplots.AxesSubplot at 0x1297861d0>"
      ]
     },
     "execution_count": 207,
     "metadata": {},
     "output_type": "execute_result"
    },
    {
     "data": {
      "image/png": "[encoded data removed]",
      "text/plain": [
       "<Figure size 432x288 with 1 Axes>"
      ]
     },
     "metadata": {},
     "output_type": "display_data"
    }
   ],
   "source": [
    "y_iphone_large_pred_df_plot.plot.bar(rot=75)"
   ]
  },
  {
   "cell_type": "code",
   "execution_count": 208,
   "metadata": {},
   "outputs": [
    {
     "data": {
      "text/plain": [
       "<matplotlib.axes._subplots.AxesSubplot at 0x129854710>"
      ]
     },
     "execution_count": 208,
     "metadata": {},
     "output_type": "execute_result"
    },
    {
     "data": {
      "image/png": "[encoded data removed]",
      "text/plain": [
       "<Figure size 432x288 with 1 Axes>"
      ]
     },
     "metadata": {},
     "output_type": "display_data"
    }
   ],
   "source": [
    "y_galaxy_large_pred_df_plot.plot.bar(rot=75)"
   ]
  },
  {
   "cell_type": "code",
   "execution_count": null,
   "metadata": {},
   "outputs": [],
   "source": []
  }
 ],
 "metadata": {
  "kernelspec": {
   "display_name": "Python 3",
   "language": "python",
   "name": "python3"
  },
  "language_info": {
   "codemirror_mode": {
    "name": "ipython",
    "version": 3
   },
   "file_extension": ".py",
   "mimetype": "text/x-python",
   "name": "python",
   "nbconvert_exporter": "python",
   "pygments_lexer": "ipython3",
   "version": "3.7.1"
  }
 },
 "nbformat": 4,
 "nbformat_minor": 2
}
